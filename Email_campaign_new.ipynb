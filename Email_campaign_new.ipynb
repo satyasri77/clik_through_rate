{
 "cells": [
  {
   "cell_type": "code",
   "execution_count": 1,
   "id": "b364163c",
   "metadata": {},
   "outputs": [],
   "source": [
    "import pandas as pd\n",
    "from pandas.api.types import is_numeric_dtype\n",
    "import numpy as np\n",
    "import matplotlib.pyplot as plt\n",
    "import seaborn as sns\n",
    "from statsmodels.stats.outliers_influence import variance_inflation_factor\n",
    "from sklearn.model_selection import train_test_split\n",
    "from sklearn.preprocessing import StandardScaler,MinMaxScaler\n",
    "from sklearn import linear_model\n",
    "from sklearn.ensemble import RandomForestRegressor\n",
    "from sklearn.tree import DecisionTreeRegressor\n",
    "import xgboost\n",
    "from xgboost import XGBRegressor\n",
    "from sklearn.model_selection import RandomizedSearchCV, GridSearchCV\n",
    "from sklearn.ensemble import GradientBoostingRegressor\n",
    "from catboost import CatBoostRegressor,Pool\n",
    "from sklearn.metrics import r2_score"
   ]
  },
  {
   "cell_type": "code",
   "execution_count": 44,
   "id": "52d84ca7",
   "metadata": {},
   "outputs": [
    {
     "data": {
      "text/html": [
       "<div>\n",
       "<style scoped>\n",
       "    .dataframe tbody tr th:only-of-type {\n",
       "        vertical-align: middle;\n",
       "    }\n",
       "\n",
       "    .dataframe tbody tr th {\n",
       "        vertical-align: top;\n",
       "    }\n",
       "\n",
       "    .dataframe thead th {\n",
       "        text-align: right;\n",
       "    }\n",
       "</style>\n",
       "<table border=\"1\" class=\"dataframe\">\n",
       "  <thead>\n",
       "    <tr style=\"text-align: right;\">\n",
       "      <th></th>\n",
       "      <th>campaign_id</th>\n",
       "      <th>sender</th>\n",
       "      <th>subject_len</th>\n",
       "      <th>body_len</th>\n",
       "      <th>mean_paragraph_len</th>\n",
       "      <th>day_of_week</th>\n",
       "      <th>is_weekend</th>\n",
       "      <th>times_of_day</th>\n",
       "      <th>category</th>\n",
       "      <th>product</th>\n",
       "      <th>...</th>\n",
       "      <th>is_image</th>\n",
       "      <th>is_personalised</th>\n",
       "      <th>is_quote</th>\n",
       "      <th>is_timer</th>\n",
       "      <th>is_emoticons</th>\n",
       "      <th>is_discount</th>\n",
       "      <th>is_price</th>\n",
       "      <th>is_urgency</th>\n",
       "      <th>target_audience</th>\n",
       "      <th>click_rate</th>\n",
       "    </tr>\n",
       "  </thead>\n",
       "  <tbody>\n",
       "    <tr>\n",
       "      <th>0</th>\n",
       "      <td>1</td>\n",
       "      <td>3</td>\n",
       "      <td>76</td>\n",
       "      <td>10439</td>\n",
       "      <td>39</td>\n",
       "      <td>5</td>\n",
       "      <td>1</td>\n",
       "      <td>Noon</td>\n",
       "      <td>6</td>\n",
       "      <td>26</td>\n",
       "      <td>...</td>\n",
       "      <td>0</td>\n",
       "      <td>0</td>\n",
       "      <td>0</td>\n",
       "      <td>0</td>\n",
       "      <td>0</td>\n",
       "      <td>0</td>\n",
       "      <td>0</td>\n",
       "      <td>0</td>\n",
       "      <td>14</td>\n",
       "      <td>0.103079</td>\n",
       "    </tr>\n",
       "    <tr>\n",
       "      <th>1</th>\n",
       "      <td>2</td>\n",
       "      <td>3</td>\n",
       "      <td>54</td>\n",
       "      <td>2570</td>\n",
       "      <td>256</td>\n",
       "      <td>5</td>\n",
       "      <td>1</td>\n",
       "      <td>Morning</td>\n",
       "      <td>2</td>\n",
       "      <td>11</td>\n",
       "      <td>...</td>\n",
       "      <td>0</td>\n",
       "      <td>0</td>\n",
       "      <td>0</td>\n",
       "      <td>0</td>\n",
       "      <td>0</td>\n",
       "      <td>0</td>\n",
       "      <td>0</td>\n",
       "      <td>0</td>\n",
       "      <td>10</td>\n",
       "      <td>0.700000</td>\n",
       "    </tr>\n",
       "    <tr>\n",
       "      <th>2</th>\n",
       "      <td>3</td>\n",
       "      <td>3</td>\n",
       "      <td>59</td>\n",
       "      <td>12801</td>\n",
       "      <td>16</td>\n",
       "      <td>5</td>\n",
       "      <td>1</td>\n",
       "      <td>Noon</td>\n",
       "      <td>2</td>\n",
       "      <td>11</td>\n",
       "      <td>...</td>\n",
       "      <td>1</td>\n",
       "      <td>0</td>\n",
       "      <td>1</td>\n",
       "      <td>0</td>\n",
       "      <td>0</td>\n",
       "      <td>0</td>\n",
       "      <td>0</td>\n",
       "      <td>0</td>\n",
       "      <td>16</td>\n",
       "      <td>0.002769</td>\n",
       "    </tr>\n",
       "    <tr>\n",
       "      <th>3</th>\n",
       "      <td>4</td>\n",
       "      <td>3</td>\n",
       "      <td>74</td>\n",
       "      <td>11037</td>\n",
       "      <td>30</td>\n",
       "      <td>4</td>\n",
       "      <td>0</td>\n",
       "      <td>Evening</td>\n",
       "      <td>15</td>\n",
       "      <td>9</td>\n",
       "      <td>...</td>\n",
       "      <td>0</td>\n",
       "      <td>0</td>\n",
       "      <td>0</td>\n",
       "      <td>0</td>\n",
       "      <td>0</td>\n",
       "      <td>0</td>\n",
       "      <td>0</td>\n",
       "      <td>0</td>\n",
       "      <td>10</td>\n",
       "      <td>0.010868</td>\n",
       "    </tr>\n",
       "    <tr>\n",
       "      <th>4</th>\n",
       "      <td>5</td>\n",
       "      <td>3</td>\n",
       "      <td>80</td>\n",
       "      <td>10011</td>\n",
       "      <td>27</td>\n",
       "      <td>5</td>\n",
       "      <td>1</td>\n",
       "      <td>Noon</td>\n",
       "      <td>6</td>\n",
       "      <td>26</td>\n",
       "      <td>...</td>\n",
       "      <td>0</td>\n",
       "      <td>0</td>\n",
       "      <td>1</td>\n",
       "      <td>0</td>\n",
       "      <td>0</td>\n",
       "      <td>0</td>\n",
       "      <td>0</td>\n",
       "      <td>0</td>\n",
       "      <td>14</td>\n",
       "      <td>0.142826</td>\n",
       "    </tr>\n",
       "  </tbody>\n",
       "</table>\n",
       "<p>5 rows × 22 columns</p>\n",
       "</div>"
      ],
      "text/plain": [
       "   campaign_id  sender  subject_len  body_len  mean_paragraph_len  \\\n",
       "0            1       3           76     10439                  39   \n",
       "1            2       3           54      2570                 256   \n",
       "2            3       3           59     12801                  16   \n",
       "3            4       3           74     11037                  30   \n",
       "4            5       3           80     10011                  27   \n",
       "\n",
       "   day_of_week  is_weekend times_of_day  category  product  ...  is_image  \\\n",
       "0            5           1         Noon         6       26  ...         0   \n",
       "1            5           1      Morning         2       11  ...         0   \n",
       "2            5           1         Noon         2       11  ...         1   \n",
       "3            4           0      Evening        15        9  ...         0   \n",
       "4            5           1         Noon         6       26  ...         0   \n",
       "\n",
       "   is_personalised  is_quote  is_timer  is_emoticons  is_discount  is_price  \\\n",
       "0                0         0         0             0            0         0   \n",
       "1                0         0         0             0            0         0   \n",
       "2                0         1         0             0            0         0   \n",
       "3                0         0         0             0            0         0   \n",
       "4                0         1         0             0            0         0   \n",
       "\n",
       "   is_urgency  target_audience  click_rate  \n",
       "0           0               14    0.103079  \n",
       "1           0               10    0.700000  \n",
       "2           0               16    0.002769  \n",
       "3           0               10    0.010868  \n",
       "4           0               14    0.142826  \n",
       "\n",
       "[5 rows x 22 columns]"
      ]
     },
     "execution_count": 44,
     "metadata": {},
     "output_type": "execute_result"
    }
   ],
   "source": [
    "train = pd.read_csv(r\"train_F3fUq2S.csv\")\n",
    "test = pd.read_csv(r\"test_Bk2wfZ3.csv\")\n",
    "train.head()"
   ]
  },
  {
   "cell_type": "code",
   "execution_count": 45,
   "id": "e5efb907",
   "metadata": {},
   "outputs": [
    {
     "data": {
      "text/plain": [
       "Index(['campaign_id', 'sender', 'subject_len', 'body_len',\n",
       "       'mean_paragraph_len', 'day_of_week', 'is_weekend', 'times_of_day',\n",
       "       'category', 'product', 'no_of_CTA', 'mean_CTA_len', 'is_image',\n",
       "       'is_personalised', 'is_quote', 'is_timer', 'is_emoticons',\n",
       "       'is_discount', 'is_price', 'is_urgency', 'target_audience',\n",
       "       'click_rate'],\n",
       "      dtype='object')"
      ]
     },
     "execution_count": 45,
     "metadata": {},
     "output_type": "execute_result"
    }
   ],
   "source": [
    "train.columns"
   ]
  },
  {
   "cell_type": "code",
   "execution_count": 46,
   "id": "c955fa93",
   "metadata": {},
   "outputs": [
    {
     "data": {
      "text/plain": [
       "<AxesSubplot:>"
      ]
     },
     "execution_count": 46,
     "metadata": {},
     "output_type": "execute_result"
    },
    {
     "data": {
      "image/png": "[encoded data removed]",
      "text/plain": [
       "<Figure size 432x288 with 1 Axes>"
      ]
     },
     "metadata": {
      "needs_background": "light"
     },
     "output_type": "display_data"
    }
   ],
   "source": [
    "train['click_rate'].hist()"
   ]
  },
  {
   "cell_type": "code",
   "execution_count": 47,
   "id": "e031a0af",
   "metadata": {
    "scrolled": true
   },
   "outputs": [
    {
     "name": "stdout",
     "output_type": "stream",
     "text": [
      "<class 'pandas.core.frame.DataFrame'>\n",
      "RangeIndex: 1888 entries, 0 to 1887\n",
      "Data columns (total 22 columns):\n",
      " #   Column              Non-Null Count  Dtype  \n",
      "---  ------              --------------  -----  \n",
      " 0   campaign_id         1888 non-null   int64  \n",
      " 1   sender              1888 non-null   int64  \n",
      " 2   subject_len         1888 non-null   int64  \n",
      " 3   body_len            1888 non-null   int64  \n",
      " 4   mean_paragraph_len  1888 non-null   int64  \n",
      " 5   day_of_week         1888 non-null   int64  \n",
      " 6   is_weekend          1888 non-null   int64  \n",
      " 7   times_of_day        1888 non-null   object \n",
      " 8   category            1888 non-null   int64  \n",
      " 9   product             1888 non-null   int64  \n",
      " 10  no_of_CTA           1888 non-null   int64  \n",
      " 11  mean_CTA_len        1888 non-null   int64  \n",
      " 12  is_image            1888 non-null   int64  \n",
      " 13  is_personalised     1888 non-null   int64  \n",
      " 14  is_quote            1888 non-null   int64  \n",
      " 15  is_timer            1888 non-null   int64  \n",
      " 16  is_emoticons        1888 non-null   int64  \n",
      " 17  is_discount         1888 non-null   int64  \n",
      " 18  is_price            1888 non-null   int64  \n",
      " 19  is_urgency          1888 non-null   int64  \n",
      " 20  target_audience     1888 non-null   int64  \n",
      " 21  click_rate          1888 non-null   float64\n",
      "dtypes: float64(1), int64(20), object(1)\n",
      "memory usage: 324.6+ KB\n"
     ]
    }
   ],
   "source": [
    "train.info()"
   ]
  },
  {
   "cell_type": "code",
   "execution_count": 48,
   "id": "add1a8bc",
   "metadata": {},
   "outputs": [],
   "source": [
    "def encode_and_bind(original_dataframe,features_to_encode):\n",
    "    dummies = pd.get_dummies(original_dataframe[[features_to_encode]])\n",
    "    res = pd.concat([original_dataframe,dummies],axis=1)\n",
    "    return res"
   ]
  },
  {
   "cell_type": "code",
   "execution_count": 72,
   "id": "143e034e",
   "metadata": {},
   "outputs": [
    {
     "data": {
      "text/html": [
       "<div>\n",
       "<style scoped>\n",
       "    .dataframe tbody tr th:only-of-type {\n",
       "        vertical-align: middle;\n",
       "    }\n",
       "\n",
       "    .dataframe tbody tr th {\n",
       "        vertical-align: top;\n",
       "    }\n",
       "\n",
       "    .dataframe thead th {\n",
       "        text-align: right;\n",
       "    }\n",
       "</style>\n",
       "<table border=\"1\" class=\"dataframe\">\n",
       "  <thead>\n",
       "    <tr style=\"text-align: right;\">\n",
       "      <th></th>\n",
       "      <th>campaign_id</th>\n",
       "      <th>sender</th>\n",
       "      <th>subject_len</th>\n",
       "      <th>body_len</th>\n",
       "      <th>mean_paragraph_len</th>\n",
       "      <th>day_of_week</th>\n",
       "      <th>is_weekend</th>\n",
       "      <th>times_of_day</th>\n",
       "      <th>category</th>\n",
       "      <th>product</th>\n",
       "      <th>...</th>\n",
       "      <th>is_quote</th>\n",
       "      <th>is_emoticons</th>\n",
       "      <th>is_discount</th>\n",
       "      <th>is_price</th>\n",
       "      <th>is_urgency</th>\n",
       "      <th>target_audience</th>\n",
       "      <th>click_rate</th>\n",
       "      <th>times_of_day_Evening</th>\n",
       "      <th>times_of_day_Morning</th>\n",
       "      <th>times_of_day_Noon</th>\n",
       "    </tr>\n",
       "  </thead>\n",
       "  <tbody>\n",
       "    <tr>\n",
       "      <th>0</th>\n",
       "      <td>1</td>\n",
       "      <td>3</td>\n",
       "      <td>76</td>\n",
       "      <td>10439</td>\n",
       "      <td>39</td>\n",
       "      <td>5</td>\n",
       "      <td>1</td>\n",
       "      <td>Noon</td>\n",
       "      <td>6</td>\n",
       "      <td>26</td>\n",
       "      <td>...</td>\n",
       "      <td>0</td>\n",
       "      <td>0</td>\n",
       "      <td>0</td>\n",
       "      <td>0</td>\n",
       "      <td>0</td>\n",
       "      <td>14</td>\n",
       "      <td>0.103079</td>\n",
       "      <td>0</td>\n",
       "      <td>0</td>\n",
       "      <td>1</td>\n",
       "    </tr>\n",
       "    <tr>\n",
       "      <th>1</th>\n",
       "      <td>2</td>\n",
       "      <td>3</td>\n",
       "      <td>54</td>\n",
       "      <td>2570</td>\n",
       "      <td>256</td>\n",
       "      <td>5</td>\n",
       "      <td>1</td>\n",
       "      <td>Morning</td>\n",
       "      <td>2</td>\n",
       "      <td>11</td>\n",
       "      <td>...</td>\n",
       "      <td>0</td>\n",
       "      <td>0</td>\n",
       "      <td>0</td>\n",
       "      <td>0</td>\n",
       "      <td>0</td>\n",
       "      <td>10</td>\n",
       "      <td>0.700000</td>\n",
       "      <td>0</td>\n",
       "      <td>1</td>\n",
       "      <td>0</td>\n",
       "    </tr>\n",
       "    <tr>\n",
       "      <th>2</th>\n",
       "      <td>3</td>\n",
       "      <td>3</td>\n",
       "      <td>59</td>\n",
       "      <td>12801</td>\n",
       "      <td>16</td>\n",
       "      <td>5</td>\n",
       "      <td>1</td>\n",
       "      <td>Noon</td>\n",
       "      <td>2</td>\n",
       "      <td>11</td>\n",
       "      <td>...</td>\n",
       "      <td>1</td>\n",
       "      <td>0</td>\n",
       "      <td>0</td>\n",
       "      <td>0</td>\n",
       "      <td>0</td>\n",
       "      <td>16</td>\n",
       "      <td>0.002769</td>\n",
       "      <td>0</td>\n",
       "      <td>0</td>\n",
       "      <td>1</td>\n",
       "    </tr>\n",
       "    <tr>\n",
       "      <th>3</th>\n",
       "      <td>4</td>\n",
       "      <td>3</td>\n",
       "      <td>74</td>\n",
       "      <td>11037</td>\n",
       "      <td>30</td>\n",
       "      <td>4</td>\n",
       "      <td>0</td>\n",
       "      <td>Evening</td>\n",
       "      <td>15</td>\n",
       "      <td>9</td>\n",
       "      <td>...</td>\n",
       "      <td>0</td>\n",
       "      <td>0</td>\n",
       "      <td>0</td>\n",
       "      <td>0</td>\n",
       "      <td>0</td>\n",
       "      <td>10</td>\n",
       "      <td>0.010868</td>\n",
       "      <td>1</td>\n",
       "      <td>0</td>\n",
       "      <td>0</td>\n",
       "    </tr>\n",
       "    <tr>\n",
       "      <th>4</th>\n",
       "      <td>5</td>\n",
       "      <td>3</td>\n",
       "      <td>80</td>\n",
       "      <td>10011</td>\n",
       "      <td>27</td>\n",
       "      <td>5</td>\n",
       "      <td>1</td>\n",
       "      <td>Noon</td>\n",
       "      <td>6</td>\n",
       "      <td>26</td>\n",
       "      <td>...</td>\n",
       "      <td>1</td>\n",
       "      <td>0</td>\n",
       "      <td>0</td>\n",
       "      <td>0</td>\n",
       "      <td>0</td>\n",
       "      <td>14</td>\n",
       "      <td>0.142826</td>\n",
       "      <td>0</td>\n",
       "      <td>0</td>\n",
       "      <td>1</td>\n",
       "    </tr>\n",
       "  </tbody>\n",
       "</table>\n",
       "<p>5 rows × 24 columns</p>\n",
       "</div>"
      ],
      "text/plain": [
       "   campaign_id  sender  subject_len  body_len  mean_paragraph_len  \\\n",
       "0            1       3           76     10439                  39   \n",
       "1            2       3           54      2570                 256   \n",
       "2            3       3           59     12801                  16   \n",
       "3            4       3           74     11037                  30   \n",
       "4            5       3           80     10011                  27   \n",
       "\n",
       "   day_of_week  is_weekend times_of_day  category  product  ...  is_quote  \\\n",
       "0            5           1         Noon         6       26  ...         0   \n",
       "1            5           1      Morning         2       11  ...         0   \n",
       "2            5           1         Noon         2       11  ...         1   \n",
       "3            4           0      Evening        15        9  ...         0   \n",
       "4            5           1         Noon         6       26  ...         1   \n",
       "\n",
       "   is_emoticons  is_discount  is_price  is_urgency  target_audience  \\\n",
       "0             0            0         0           0               14   \n",
       "1             0            0         0           0               10   \n",
       "2             0            0         0           0               16   \n",
       "3             0            0         0           0               10   \n",
       "4             0            0         0           0               14   \n",
       "\n",
       "   click_rate  times_of_day_Evening  times_of_day_Morning  times_of_day_Noon  \n",
       "0    0.103079                     0                     0                  1  \n",
       "1    0.700000                     0                     1                  0  \n",
       "2    0.002769                     0                     0                  1  \n",
       "3    0.010868                     1                     0                  0  \n",
       "4    0.142826                     0                     0                  1  \n",
       "\n",
       "[5 rows x 24 columns]"
      ]
     },
     "execution_count": 72,
     "metadata": {},
     "output_type": "execute_result"
    }
   ],
   "source": [
    "# train['times_of_day'] = train['times_of_day'].replace({'Morning':1,\n",
    "#                                                       'Noon':2,\n",
    "#                                                       'Evening':3})\n",
    "# test['times_of_day'] = test['times_of_day'].replace({'Morning':1,\n",
    "#                                                       'Noon':2,\n",
    "#                                                       'Evening':3})\n",
    "train = encode_and_bind(train,'times_of_day')\n",
    "test = encode_and_bind(test,'times_of_day')\n",
    "train.head()"
   ]
  },
  {
   "cell_type": "code",
   "execution_count": 50,
   "id": "ff96a7fd",
   "metadata": {},
   "outputs": [
    {
     "data": {
      "text/plain": [
       "Index(['campaign_id', 'sender', 'subject_len', 'body_len',\n",
       "       'mean_paragraph_len', 'day_of_week', 'is_weekend', 'times_of_day',\n",
       "       'category', 'product', 'no_of_CTA', 'mean_CTA_len', 'is_image',\n",
       "       'is_personalised', 'is_quote', 'is_timer', 'is_emoticons',\n",
       "       'is_discount', 'is_price', 'is_urgency', 'target_audience',\n",
       "       'click_rate'],\n",
       "      dtype='object')"
      ]
     },
     "execution_count": 50,
     "metadata": {},
     "output_type": "execute_result"
    }
   ],
   "source": [
    "train.columns"
   ]
  },
  {
   "cell_type": "code",
   "execution_count": 51,
   "id": "6316ab61",
   "metadata": {},
   "outputs": [
    {
     "data": {
      "text/plain": [
       "0    1676\n",
       "1     212\n",
       "Name: is_urgency, dtype: int64"
      ]
     },
     "execution_count": 51,
     "metadata": {},
     "output_type": "execute_result"
    }
   ],
   "source": [
    "train['is_urgency'].value_counts()"
   ]
  },
  {
   "cell_type": "code",
   "execution_count": 52,
   "id": "a8b6189f",
   "metadata": {},
   "outputs": [
    {
     "name": "stderr",
     "output_type": "stream",
     "text": [
      "/var/folders/9x/j42r0vlj4lv95k0r2zfxlpfr0000gn/T/ipykernel_714/2791053866.py:1: SettingWithCopyWarning: \n",
      "A value is trying to be set on a copy of a slice from a DataFrame\n",
      "\n",
      "See the caveats in the documentation: https://pandas.pydata.org/pandas-docs/stable/user_guide/indexing.html#returning-a-view-versus-a-copy\n",
      "  train['is_price'][train['is_price']>0] = 1\n",
      "/var/folders/9x/j42r0vlj4lv95k0r2zfxlpfr0000gn/T/ipykernel_714/2791053866.py:2: SettingWithCopyWarning: \n",
      "A value is trying to be set on a copy of a slice from a DataFrame\n",
      "\n",
      "See the caveats in the documentation: https://pandas.pydata.org/pandas-docs/stable/user_guide/indexing.html#returning-a-view-versus-a-copy\n",
      "  test['is_price'][test['is_price']>0] = 1\n",
      "/var/folders/9x/j42r0vlj4lv95k0r2zfxlpfr0000gn/T/ipykernel_714/2791053866.py:4: SettingWithCopyWarning: \n",
      "A value is trying to be set on a copy of a slice from a DataFrame\n",
      "\n",
      "See the caveats in the documentation: https://pandas.pydata.org/pandas-docs/stable/user_guide/indexing.html#returning-a-view-versus-a-copy\n",
      "  train['is_image'][train['is_image']>0] = 1\n",
      "/var/folders/9x/j42r0vlj4lv95k0r2zfxlpfr0000gn/T/ipykernel_714/2791053866.py:5: SettingWithCopyWarning: \n",
      "A value is trying to be set on a copy of a slice from a DataFrame\n",
      "\n",
      "See the caveats in the documentation: https://pandas.pydata.org/pandas-docs/stable/user_guide/indexing.html#returning-a-view-versus-a-copy\n",
      "  test['is_image'][test['is_image']>0] = 1\n",
      "/var/folders/9x/j42r0vlj4lv95k0r2zfxlpfr0000gn/T/ipykernel_714/2791053866.py:7: SettingWithCopyWarning: \n",
      "A value is trying to be set on a copy of a slice from a DataFrame\n",
      "\n",
      "See the caveats in the documentation: https://pandas.pydata.org/pandas-docs/stable/user_guide/indexing.html#returning-a-view-versus-a-copy\n",
      "  train['is_quote'][train['is_quote']>0] = 1\n",
      "/var/folders/9x/j42r0vlj4lv95k0r2zfxlpfr0000gn/T/ipykernel_714/2791053866.py:8: SettingWithCopyWarning: \n",
      "A value is trying to be set on a copy of a slice from a DataFrame\n",
      "\n",
      "See the caveats in the documentation: https://pandas.pydata.org/pandas-docs/stable/user_guide/indexing.html#returning-a-view-versus-a-copy\n",
      "  test['is_quote'][test['is_quote']>0] = 1\n",
      "/var/folders/9x/j42r0vlj4lv95k0r2zfxlpfr0000gn/T/ipykernel_714/2791053866.py:10: SettingWithCopyWarning: \n",
      "A value is trying to be set on a copy of a slice from a DataFrame\n",
      "\n",
      "See the caveats in the documentation: https://pandas.pydata.org/pandas-docs/stable/user_guide/indexing.html#returning-a-view-versus-a-copy\n",
      "  train['is_emoticons'][train['is_emoticons']>0] = 1\n",
      "/var/folders/9x/j42r0vlj4lv95k0r2zfxlpfr0000gn/T/ipykernel_714/2791053866.py:11: SettingWithCopyWarning: \n",
      "A value is trying to be set on a copy of a slice from a DataFrame\n",
      "\n",
      "See the caveats in the documentation: https://pandas.pydata.org/pandas-docs/stable/user_guide/indexing.html#returning-a-view-versus-a-copy\n",
      "  test['is_emoticons'][test['is_emoticons']>0] = 1\n"
     ]
    }
   ],
   "source": [
    "train['is_price'][train['is_price']>0] = 1\n",
    "test['is_price'][test['is_price']>0] = 1\n",
    "\n",
    "train['is_image'][train['is_image']>0] = 1\n",
    "test['is_image'][test['is_image']>0] = 1\n",
    "\n",
    "train['is_quote'][train['is_quote']>0] = 1\n",
    "test['is_quote'][test['is_quote']>0] = 1\n",
    "\n",
    "train['is_emoticons'][train['is_emoticons']>0] = 1\n",
    "test['is_emoticons'][test['is_emoticons']>0] = 1"
   ]
  },
  {
   "cell_type": "markdown",
   "id": "75cb8585",
   "metadata": {},
   "source": [
    "# EDA"
   ]
  },
  {
   "cell_type": "code",
   "execution_count": 53,
   "id": "48c271ad",
   "metadata": {},
   "outputs": [
    {
     "data": {
      "text/plain": [
       "<AxesSubplot:xlabel='times_of_day', ylabel='click_rate'>"
      ]
     },
     "execution_count": 53,
     "metadata": {},
     "output_type": "execute_result"
    },
    {
     "data": {
      "image/png": "[encoded data removed]",
      "text/plain": [
       "<Figure size 1152x288 with 3 Axes>"
      ]
     },
     "metadata": {
      "needs_background": "light"
     },
     "output_type": "display_data"
    }
   ],
   "source": [
    "#is_timer drop\n",
    "fig, ax = plt.subplots(nrows=1, ncols=3, figsize=(16,4))\n",
    "sns.boxplot(data=train, y='click_rate',x='day_of_week', ax=ax[0])\n",
    "sns.boxplot(data=train, y='click_rate',x='is_weekend', ax=ax[1])\n",
    "sns.boxplot(data=train, y='click_rate',x='times_of_day', ax=ax[2])"
   ]
  },
  {
   "cell_type": "code",
   "execution_count": 54,
   "id": "6d7a4fd5",
   "metadata": {},
   "outputs": [
    {
     "data": {
      "text/html": [
       "<div>\n",
       "<style scoped>\n",
       "    .dataframe tbody tr th:only-of-type {\n",
       "        vertical-align: middle;\n",
       "    }\n",
       "\n",
       "    .dataframe tbody tr th {\n",
       "        vertical-align: top;\n",
       "    }\n",
       "\n",
       "    .dataframe thead th {\n",
       "        text-align: right;\n",
       "    }\n",
       "</style>\n",
       "<table border=\"1\" class=\"dataframe\">\n",
       "  <thead>\n",
       "    <tr style=\"text-align: right;\">\n",
       "      <th></th>\n",
       "      <th>day_of_week</th>\n",
       "      <th>is_weekend</th>\n",
       "      <th>is_timer</th>\n",
       "      <th>click_rate</th>\n",
       "    </tr>\n",
       "  </thead>\n",
       "  <tbody>\n",
       "    <tr>\n",
       "      <th>day_of_week</th>\n",
       "      <td>1.000000</td>\n",
       "      <td>0.720599</td>\n",
       "      <td>NaN</td>\n",
       "      <td>0.086372</td>\n",
       "    </tr>\n",
       "    <tr>\n",
       "      <th>is_weekend</th>\n",
       "      <td>0.720599</td>\n",
       "      <td>1.000000</td>\n",
       "      <td>NaN</td>\n",
       "      <td>0.114138</td>\n",
       "    </tr>\n",
       "    <tr>\n",
       "      <th>is_timer</th>\n",
       "      <td>NaN</td>\n",
       "      <td>NaN</td>\n",
       "      <td>NaN</td>\n",
       "      <td>NaN</td>\n",
       "    </tr>\n",
       "    <tr>\n",
       "      <th>click_rate</th>\n",
       "      <td>0.086372</td>\n",
       "      <td>0.114138</td>\n",
       "      <td>NaN</td>\n",
       "      <td>1.000000</td>\n",
       "    </tr>\n",
       "  </tbody>\n",
       "</table>\n",
       "</div>"
      ],
      "text/plain": [
       "             day_of_week  is_weekend  is_timer  click_rate\n",
       "day_of_week     1.000000    0.720599       NaN    0.086372\n",
       "is_weekend      0.720599    1.000000       NaN    0.114138\n",
       "is_timer             NaN         NaN       NaN         NaN\n",
       "click_rate      0.086372    0.114138       NaN    1.000000"
      ]
     },
     "execution_count": 54,
     "metadata": {},
     "output_type": "execute_result"
    }
   ],
   "source": [
    "train[['day_of_week','is_weekend','times_of_day',\n",
    "       'is_timer','click_rate']].corr()"
   ]
  },
  {
   "cell_type": "code",
   "execution_count": 55,
   "id": "75e735c5",
   "metadata": {},
   "outputs": [
    {
     "data": {
      "text/plain": [
       "<AxesSubplot:xlabel='click_rate', ylabel='mean_CTA_len'>"
      ]
     },
     "execution_count": 55,
     "metadata": {},
     "output_type": "execute_result"
    },
    {
     "data": {
      "image/png": "[encoded data removed]",
      "text/plain": [
       "<Figure size 1152x576 with 6 Axes>"
      ]
     },
     "metadata": {
      "needs_background": "light"
     },
     "output_type": "display_data"
    }
   ],
   "source": [
    "#'subject_len', 'body_len','mean_paragraph_len','no_of_CTA', 'mean_CTA_len'\n",
    "fig, ax = plt.subplots(nrows=2, ncols=3, figsize=(16,8))\n",
    "sns.scatterplot(data=train, x='click_rate',y='subject_len', ax=ax[0][0])\n",
    "sns.scatterplot(data=train, x='click_rate',y='body_len', ax=ax[0][1])\n",
    "sns.scatterplot(data=train, x='click_rate',y='mean_paragraph_len', ax=ax[0][2])\n",
    "sns.scatterplot(data=train, x='click_rate',y='no_of_CTA', ax=ax[1][0])\n",
    "sns.scatterplot(data=train, x='click_rate',y='mean_CTA_len', ax=ax[1][1])"
   ]
  },
  {
   "cell_type": "code",
   "execution_count": 56,
   "id": "9fcc4a1e",
   "metadata": {},
   "outputs": [
    {
     "data": {
      "text/html": [
       "<div>\n",
       "<style scoped>\n",
       "    .dataframe tbody tr th:only-of-type {\n",
       "        vertical-align: middle;\n",
       "    }\n",
       "\n",
       "    .dataframe tbody tr th {\n",
       "        vertical-align: top;\n",
       "    }\n",
       "\n",
       "    .dataframe thead th {\n",
       "        text-align: right;\n",
       "    }\n",
       "</style>\n",
       "<table border=\"1\" class=\"dataframe\">\n",
       "  <thead>\n",
       "    <tr style=\"text-align: right;\">\n",
       "      <th></th>\n",
       "      <th>subject_len</th>\n",
       "      <th>body_len</th>\n",
       "      <th>mean_paragraph_len</th>\n",
       "      <th>no_of_CTA</th>\n",
       "      <th>mean_CTA_len</th>\n",
       "      <th>click_rate</th>\n",
       "    </tr>\n",
       "  </thead>\n",
       "  <tbody>\n",
       "    <tr>\n",
       "      <th>subject_len</th>\n",
       "      <td>1.000000</td>\n",
       "      <td>0.427326</td>\n",
       "      <td>-0.224770</td>\n",
       "      <td>0.400213</td>\n",
       "      <td>0.144261</td>\n",
       "      <td>-0.180143</td>\n",
       "    </tr>\n",
       "    <tr>\n",
       "      <th>body_len</th>\n",
       "      <td>0.427326</td>\n",
       "      <td>1.000000</td>\n",
       "      <td>-0.496146</td>\n",
       "      <td>0.559353</td>\n",
       "      <td>0.083468</td>\n",
       "      <td>-0.247866</td>\n",
       "    </tr>\n",
       "    <tr>\n",
       "      <th>mean_paragraph_len</th>\n",
       "      <td>-0.224770</td>\n",
       "      <td>-0.496146</td>\n",
       "      <td>1.000000</td>\n",
       "      <td>-0.170012</td>\n",
       "      <td>0.064632</td>\n",
       "      <td>0.178042</td>\n",
       "    </tr>\n",
       "    <tr>\n",
       "      <th>no_of_CTA</th>\n",
       "      <td>0.400213</td>\n",
       "      <td>0.559353</td>\n",
       "      <td>-0.170012</td>\n",
       "      <td>1.000000</td>\n",
       "      <td>0.170387</td>\n",
       "      <td>-0.172637</td>\n",
       "    </tr>\n",
       "    <tr>\n",
       "      <th>mean_CTA_len</th>\n",
       "      <td>0.144261</td>\n",
       "      <td>0.083468</td>\n",
       "      <td>0.064632</td>\n",
       "      <td>0.170387</td>\n",
       "      <td>1.000000</td>\n",
       "      <td>-0.031162</td>\n",
       "    </tr>\n",
       "    <tr>\n",
       "      <th>click_rate</th>\n",
       "      <td>-0.180143</td>\n",
       "      <td>-0.247866</td>\n",
       "      <td>0.178042</td>\n",
       "      <td>-0.172637</td>\n",
       "      <td>-0.031162</td>\n",
       "      <td>1.000000</td>\n",
       "    </tr>\n",
       "  </tbody>\n",
       "</table>\n",
       "</div>"
      ],
      "text/plain": [
       "                    subject_len  body_len  mean_paragraph_len  no_of_CTA  \\\n",
       "subject_len            1.000000  0.427326           -0.224770   0.400213   \n",
       "body_len               0.427326  1.000000           -0.496146   0.559353   \n",
       "mean_paragraph_len    -0.224770 -0.496146            1.000000  -0.170012   \n",
       "no_of_CTA              0.400213  0.559353           -0.170012   1.000000   \n",
       "mean_CTA_len           0.144261  0.083468            0.064632   0.170387   \n",
       "click_rate            -0.180143 -0.247866            0.178042  -0.172637   \n",
       "\n",
       "                    mean_CTA_len  click_rate  \n",
       "subject_len             0.144261   -0.180143  \n",
       "body_len                0.083468   -0.247866  \n",
       "mean_paragraph_len      0.064632    0.178042  \n",
       "no_of_CTA               0.170387   -0.172637  \n",
       "mean_CTA_len            1.000000   -0.031162  \n",
       "click_rate             -0.031162    1.000000  "
      ]
     },
     "execution_count": 56,
     "metadata": {},
     "output_type": "execute_result"
    }
   ],
   "source": [
    "train[['subject_len', 'body_len','mean_paragraph_len','no_of_CTA','mean_CTA_len','click_rate']].corr()\n",
    "#drop subject_len,mean_CTA_len"
   ]
  },
  {
   "cell_type": "code",
   "execution_count": 57,
   "id": "087116e7",
   "metadata": {},
   "outputs": [
    {
     "data": {
      "text/plain": [
       "<AxesSubplot:xlabel='product', ylabel='click_rate'>"
      ]
     },
     "execution_count": 57,
     "metadata": {},
     "output_type": "execute_result"
    },
    {
     "data": {
      "image/png": "[encoded data removed]",
      "text/plain": [
       "<Figure size 1152x288 with 3 Axes>"
      ]
     },
     "metadata": {
      "needs_background": "light"
     },
     "output_type": "display_data"
    }
   ],
   "source": [
    "fig, ax = plt.subplots(nrows=1, ncols=3, figsize=(16,4))\n",
    "sns.scatterplot(data=train, y='click_rate',x='sender', ax=ax[0])\n",
    "sns.scatterplot(data=train, y='click_rate',x='category', ax=ax[1])\n",
    "sns.scatterplot(data=train, y='click_rate',x='product', ax=ax[2])"
   ]
  },
  {
   "cell_type": "code",
   "execution_count": 58,
   "id": "4f8c5c7e",
   "metadata": {},
   "outputs": [
    {
     "data": {
      "text/html": [
       "<div>\n",
       "<style scoped>\n",
       "    .dataframe tbody tr th:only-of-type {\n",
       "        vertical-align: middle;\n",
       "    }\n",
       "\n",
       "    .dataframe tbody tr th {\n",
       "        vertical-align: top;\n",
       "    }\n",
       "\n",
       "    .dataframe thead th {\n",
       "        text-align: right;\n",
       "    }\n",
       "</style>\n",
       "<table border=\"1\" class=\"dataframe\">\n",
       "  <thead>\n",
       "    <tr style=\"text-align: right;\">\n",
       "      <th></th>\n",
       "      <th>sender</th>\n",
       "      <th>product</th>\n",
       "      <th>category</th>\n",
       "      <th>click_rate</th>\n",
       "    </tr>\n",
       "  </thead>\n",
       "  <tbody>\n",
       "    <tr>\n",
       "      <th>sender</th>\n",
       "      <td>1.000000</td>\n",
       "      <td>0.070689</td>\n",
       "      <td>0.188444</td>\n",
       "      <td>-0.031398</td>\n",
       "    </tr>\n",
       "    <tr>\n",
       "      <th>product</th>\n",
       "      <td>0.070689</td>\n",
       "      <td>1.000000</td>\n",
       "      <td>0.007144</td>\n",
       "      <td>0.121602</td>\n",
       "    </tr>\n",
       "    <tr>\n",
       "      <th>category</th>\n",
       "      <td>0.188444</td>\n",
       "      <td>0.007144</td>\n",
       "      <td>1.000000</td>\n",
       "      <td>-0.167756</td>\n",
       "    </tr>\n",
       "    <tr>\n",
       "      <th>click_rate</th>\n",
       "      <td>-0.031398</td>\n",
       "      <td>0.121602</td>\n",
       "      <td>-0.167756</td>\n",
       "      <td>1.000000</td>\n",
       "    </tr>\n",
       "  </tbody>\n",
       "</table>\n",
       "</div>"
      ],
      "text/plain": [
       "              sender   product  category  click_rate\n",
       "sender      1.000000  0.070689  0.188444   -0.031398\n",
       "product     0.070689  1.000000  0.007144    0.121602\n",
       "category    0.188444  0.007144  1.000000   -0.167756\n",
       "click_rate -0.031398  0.121602 -0.167756    1.000000"
      ]
     },
     "execution_count": 58,
     "metadata": {},
     "output_type": "execute_result"
    }
   ],
   "source": [
    "train[['sender', 'product','category','click_rate']].corr()"
   ]
  },
  {
   "cell_type": "code",
   "execution_count": 59,
   "id": "be4ff9fb",
   "metadata": {},
   "outputs": [
    {
     "data": {
      "text/plain": [
       "Index(['campaign_id', 'sender', 'subject_len', 'body_len',\n",
       "       'mean_paragraph_len', 'day_of_week', 'is_weekend', 'times_of_day',\n",
       "       'category', 'product', 'no_of_CTA', 'mean_CTA_len', 'is_image',\n",
       "       'is_personalised', 'is_quote', 'is_timer', 'is_emoticons',\n",
       "       'is_discount', 'is_price', 'is_urgency', 'target_audience',\n",
       "       'click_rate'],\n",
       "      dtype='object')"
      ]
     },
     "execution_count": 59,
     "metadata": {},
     "output_type": "execute_result"
    }
   ],
   "source": [
    "train.columns"
   ]
  },
  {
   "cell_type": "code",
   "execution_count": 60,
   "id": "10142d64",
   "metadata": {},
   "outputs": [
    {
     "data": {
      "text/plain": [
       "<AxesSubplot:xlabel='click_rate', ylabel='target_audience'>"
      ]
     },
     "execution_count": 60,
     "metadata": {},
     "output_type": "execute_result"
    },
    {
     "data": {
      "image/png": "[encoded data removed]",
      "text/plain": [
       "<Figure size 864x720 with 8 Axes>"
      ]
     },
     "metadata": {
      "needs_background": "light"
     },
     "output_type": "display_data"
    }
   ],
   "source": [
    "fig, ax = plt.subplots(nrows=4, ncols=2, figsize=(12,10))\n",
    "sns.scatterplot(data=train, x='click_rate',y='is_image', ax=ax[0][0])\n",
    "sns.scatterplot(data=train, x='click_rate',y='is_personalised', ax=ax[0][1])\n",
    "sns.scatterplot(data=train, x='click_rate',y='is_quote', ax=ax[1][0])\n",
    "sns.scatterplot(data=train, x='click_rate',y='is_emoticons', ax=ax[1][1])\n",
    "sns.scatterplot(data=train, x='click_rate',y='is_discount', ax=ax[2][0])\n",
    "sns.scatterplot(data=train, x='click_rate',y='is_price', ax=ax[2][1])\n",
    "sns.scatterplot(data=train, x='click_rate',y='is_urgency', ax=ax[3][0])\n",
    "sns.scatterplot(data=train, x='click_rate',y='target_audience', ax=ax[3][1])"
   ]
  },
  {
   "cell_type": "code",
   "execution_count": 61,
   "id": "0d01928e",
   "metadata": {},
   "outputs": [
    {
     "data": {
      "text/html": [
       "<div>\n",
       "<style scoped>\n",
       "    .dataframe tbody tr th:only-of-type {\n",
       "        vertical-align: middle;\n",
       "    }\n",
       "\n",
       "    .dataframe tbody tr th {\n",
       "        vertical-align: top;\n",
       "    }\n",
       "\n",
       "    .dataframe thead th {\n",
       "        text-align: right;\n",
       "    }\n",
       "</style>\n",
       "<table border=\"1\" class=\"dataframe\">\n",
       "  <thead>\n",
       "    <tr style=\"text-align: right;\">\n",
       "      <th></th>\n",
       "      <th>is_image</th>\n",
       "      <th>is_personalised</th>\n",
       "      <th>is_quote</th>\n",
       "      <th>is_emoticons</th>\n",
       "      <th>is_discount</th>\n",
       "      <th>is_price</th>\n",
       "      <th>is_urgency</th>\n",
       "      <th>target_audience</th>\n",
       "      <th>click_rate</th>\n",
       "    </tr>\n",
       "  </thead>\n",
       "  <tbody>\n",
       "    <tr>\n",
       "      <th>is_image</th>\n",
       "      <td>1.000000</td>\n",
       "      <td>0.026337</td>\n",
       "      <td>-0.007930</td>\n",
       "      <td>0.023241</td>\n",
       "      <td>0.013653</td>\n",
       "      <td>0.025479</td>\n",
       "      <td>-0.002080</td>\n",
       "      <td>0.004564</td>\n",
       "      <td>-0.023423</td>\n",
       "    </tr>\n",
       "    <tr>\n",
       "      <th>is_personalised</th>\n",
       "      <td>0.026337</td>\n",
       "      <td>1.000000</td>\n",
       "      <td>-0.049778</td>\n",
       "      <td>-0.085137</td>\n",
       "      <td>-0.049853</td>\n",
       "      <td>-0.020409</td>\n",
       "      <td>-0.087175</td>\n",
       "      <td>-0.023227</td>\n",
       "      <td>0.032922</td>\n",
       "    </tr>\n",
       "    <tr>\n",
       "      <th>is_quote</th>\n",
       "      <td>-0.007930</td>\n",
       "      <td>-0.049778</td>\n",
       "      <td>1.000000</td>\n",
       "      <td>-0.034348</td>\n",
       "      <td>-0.015454</td>\n",
       "      <td>-0.037303</td>\n",
       "      <td>-0.035719</td>\n",
       "      <td>0.017842</td>\n",
       "      <td>-0.113460</td>\n",
       "    </tr>\n",
       "    <tr>\n",
       "      <th>is_emoticons</th>\n",
       "      <td>0.023241</td>\n",
       "      <td>-0.085137</td>\n",
       "      <td>-0.034348</td>\n",
       "      <td>1.000000</td>\n",
       "      <td>0.090934</td>\n",
       "      <td>-0.033424</td>\n",
       "      <td>0.124135</td>\n",
       "      <td>0.074181</td>\n",
       "      <td>-0.118874</td>\n",
       "    </tr>\n",
       "    <tr>\n",
       "      <th>is_discount</th>\n",
       "      <td>0.013653</td>\n",
       "      <td>-0.049853</td>\n",
       "      <td>-0.015454</td>\n",
       "      <td>0.090934</td>\n",
       "      <td>1.000000</td>\n",
       "      <td>0.048653</td>\n",
       "      <td>0.185347</td>\n",
       "      <td>-0.030896</td>\n",
       "      <td>-0.086105</td>\n",
       "    </tr>\n",
       "    <tr>\n",
       "      <th>is_price</th>\n",
       "      <td>0.025479</td>\n",
       "      <td>-0.020409</td>\n",
       "      <td>-0.037303</td>\n",
       "      <td>-0.033424</td>\n",
       "      <td>0.048653</td>\n",
       "      <td>1.000000</td>\n",
       "      <td>0.031248</td>\n",
       "      <td>0.016839</td>\n",
       "      <td>-0.031621</td>\n",
       "    </tr>\n",
       "    <tr>\n",
       "      <th>is_urgency</th>\n",
       "      <td>-0.002080</td>\n",
       "      <td>-0.087175</td>\n",
       "      <td>-0.035719</td>\n",
       "      <td>0.124135</td>\n",
       "      <td>0.185347</td>\n",
       "      <td>0.031248</td>\n",
       "      <td>1.000000</td>\n",
       "      <td>0.058311</td>\n",
       "      <td>-0.114284</td>\n",
       "    </tr>\n",
       "    <tr>\n",
       "      <th>target_audience</th>\n",
       "      <td>0.004564</td>\n",
       "      <td>-0.023227</td>\n",
       "      <td>0.017842</td>\n",
       "      <td>0.074181</td>\n",
       "      <td>-0.030896</td>\n",
       "      <td>0.016839</td>\n",
       "      <td>0.058311</td>\n",
       "      <td>1.000000</td>\n",
       "      <td>0.038713</td>\n",
       "    </tr>\n",
       "    <tr>\n",
       "      <th>click_rate</th>\n",
       "      <td>-0.023423</td>\n",
       "      <td>0.032922</td>\n",
       "      <td>-0.113460</td>\n",
       "      <td>-0.118874</td>\n",
       "      <td>-0.086105</td>\n",
       "      <td>-0.031621</td>\n",
       "      <td>-0.114284</td>\n",
       "      <td>0.038713</td>\n",
       "      <td>1.000000</td>\n",
       "    </tr>\n",
       "  </tbody>\n",
       "</table>\n",
       "</div>"
      ],
      "text/plain": [
       "                 is_image  is_personalised  is_quote  is_emoticons  \\\n",
       "is_image         1.000000         0.026337 -0.007930      0.023241   \n",
       "is_personalised  0.026337         1.000000 -0.049778     -0.085137   \n",
       "is_quote        -0.007930        -0.049778  1.000000     -0.034348   \n",
       "is_emoticons     0.023241        -0.085137 -0.034348      1.000000   \n",
       "is_discount      0.013653        -0.049853 -0.015454      0.090934   \n",
       "is_price         0.025479        -0.020409 -0.037303     -0.033424   \n",
       "is_urgency      -0.002080        -0.087175 -0.035719      0.124135   \n",
       "target_audience  0.004564        -0.023227  0.017842      0.074181   \n",
       "click_rate      -0.023423         0.032922 -0.113460     -0.118874   \n",
       "\n",
       "                 is_discount  is_price  is_urgency  target_audience  \\\n",
       "is_image            0.013653  0.025479   -0.002080         0.004564   \n",
       "is_personalised    -0.049853 -0.020409   -0.087175        -0.023227   \n",
       "is_quote           -0.015454 -0.037303   -0.035719         0.017842   \n",
       "is_emoticons        0.090934 -0.033424    0.124135         0.074181   \n",
       "is_discount         1.000000  0.048653    0.185347        -0.030896   \n",
       "is_price            0.048653  1.000000    0.031248         0.016839   \n",
       "is_urgency          0.185347  0.031248    1.000000         0.058311   \n",
       "target_audience    -0.030896  0.016839    0.058311         1.000000   \n",
       "click_rate         -0.086105 -0.031621   -0.114284         0.038713   \n",
       "\n",
       "                 click_rate  \n",
       "is_image          -0.023423  \n",
       "is_personalised    0.032922  \n",
       "is_quote          -0.113460  \n",
       "is_emoticons      -0.118874  \n",
       "is_discount       -0.086105  \n",
       "is_price          -0.031621  \n",
       "is_urgency        -0.114284  \n",
       "target_audience    0.038713  \n",
       "click_rate         1.000000  "
      ]
     },
     "execution_count": 61,
     "metadata": {},
     "output_type": "execute_result"
    }
   ],
   "source": [
    "#drop is_price\n",
    "train[['is_image','is_personalised','is_quote','is_emoticons','is_discount','is_price',\n",
    "       'is_urgency','target_audience','click_rate']].corr()"
   ]
  },
  {
   "cell_type": "code",
   "execution_count": 62,
   "id": "b02bc160",
   "metadata": {},
   "outputs": [],
   "source": [
    "drop_cols = ['is_timer']\n",
    "#is_discount, product\n",
    "train.drop(drop_cols,axis=1,inplace=True)\n",
    "test.drop(drop_cols,axis=1,inplace=True)"
   ]
  },
  {
   "cell_type": "code",
   "execution_count": 63,
   "id": "7aa78c60",
   "metadata": {},
   "outputs": [
    {
     "data": {
      "text/plain": [
       "Index(['campaign_id', 'sender', 'subject_len', 'body_len',\n",
       "       'mean_paragraph_len', 'day_of_week', 'is_weekend', 'times_of_day',\n",
       "       'category', 'product', 'no_of_CTA', 'mean_CTA_len', 'is_image',\n",
       "       'is_personalised', 'is_quote', 'is_emoticons', 'is_discount',\n",
       "       'is_price', 'is_urgency', 'target_audience', 'click_rate'],\n",
       "      dtype='object')"
      ]
     },
     "execution_count": 63,
     "metadata": {},
     "output_type": "execute_result"
    }
   ],
   "source": [
    "train.columns"
   ]
  },
  {
   "cell_type": "code",
   "execution_count": 64,
   "id": "a521151e",
   "metadata": {},
   "outputs": [
    {
     "data": {
      "text/html": [
       "<div>\n",
       "<style scoped>\n",
       "    .dataframe tbody tr th:only-of-type {\n",
       "        vertical-align: middle;\n",
       "    }\n",
       "\n",
       "    .dataframe tbody tr th {\n",
       "        vertical-align: top;\n",
       "    }\n",
       "\n",
       "    .dataframe thead th {\n",
       "        text-align: right;\n",
       "    }\n",
       "</style>\n",
       "<table border=\"1\" class=\"dataframe\">\n",
       "  <thead>\n",
       "    <tr style=\"text-align: right;\">\n",
       "      <th></th>\n",
       "      <th>feature</th>\n",
       "      <th>VIF</th>\n",
       "    </tr>\n",
       "  </thead>\n",
       "  <tbody>\n",
       "    <tr>\n",
       "      <th>0</th>\n",
       "      <td>sender</td>\n",
       "      <td>3.228411</td>\n",
       "    </tr>\n",
       "    <tr>\n",
       "      <th>1</th>\n",
       "      <td>subject_len</td>\n",
       "      <td>11.334123</td>\n",
       "    </tr>\n",
       "    <tr>\n",
       "      <th>2</th>\n",
       "      <td>body_len</td>\n",
       "      <td>8.001910</td>\n",
       "    </tr>\n",
       "    <tr>\n",
       "      <th>3</th>\n",
       "      <td>day_of_week</td>\n",
       "      <td>7.125017</td>\n",
       "    </tr>\n",
       "    <tr>\n",
       "      <th>4</th>\n",
       "      <td>is_weekend</td>\n",
       "      <td>2.616522</td>\n",
       "    </tr>\n",
       "    <tr>\n",
       "      <th>5</th>\n",
       "      <td>category</td>\n",
       "      <td>5.231579</td>\n",
       "    </tr>\n",
       "    <tr>\n",
       "      <th>6</th>\n",
       "      <td>product</td>\n",
       "      <td>3.074573</td>\n",
       "    </tr>\n",
       "    <tr>\n",
       "      <th>7</th>\n",
       "      <td>no_of_CTA</td>\n",
       "      <td>2.795878</td>\n",
       "    </tr>\n",
       "    <tr>\n",
       "      <th>8</th>\n",
       "      <td>mean_CTA_len</td>\n",
       "      <td>7.380898</td>\n",
       "    </tr>\n",
       "    <tr>\n",
       "      <th>9</th>\n",
       "      <td>is_image</td>\n",
       "      <td>2.569625</td>\n",
       "    </tr>\n",
       "    <tr>\n",
       "      <th>10</th>\n",
       "      <td>is_personalised</td>\n",
       "      <td>1.231376</td>\n",
       "    </tr>\n",
       "    <tr>\n",
       "      <th>11</th>\n",
       "      <td>is_quote</td>\n",
       "      <td>2.229571</td>\n",
       "    </tr>\n",
       "    <tr>\n",
       "      <th>12</th>\n",
       "      <td>is_emoticons</td>\n",
       "      <td>1.259940</td>\n",
       "    </tr>\n",
       "    <tr>\n",
       "      <th>13</th>\n",
       "      <td>is_discount</td>\n",
       "      <td>1.122665</td>\n",
       "    </tr>\n",
       "    <tr>\n",
       "      <th>14</th>\n",
       "      <td>is_price</td>\n",
       "      <td>1.027699</td>\n",
       "    </tr>\n",
       "    <tr>\n",
       "      <th>15</th>\n",
       "      <td>is_urgency</td>\n",
       "      <td>1.255966</td>\n",
       "    </tr>\n",
       "    <tr>\n",
       "      <th>16</th>\n",
       "      <td>target_audience</td>\n",
       "      <td>10.947471</td>\n",
       "    </tr>\n",
       "  </tbody>\n",
       "</table>\n",
       "</div>"
      ],
      "text/plain": [
       "            feature        VIF\n",
       "0            sender   3.228411\n",
       "1       subject_len  11.334123\n",
       "2          body_len   8.001910\n",
       "3       day_of_week   7.125017\n",
       "4        is_weekend   2.616522\n",
       "5          category   5.231579\n",
       "6           product   3.074573\n",
       "7         no_of_CTA   2.795878\n",
       "8      mean_CTA_len   7.380898\n",
       "9          is_image   2.569625\n",
       "10  is_personalised   1.231376\n",
       "11         is_quote   2.229571\n",
       "12     is_emoticons   1.259940\n",
       "13      is_discount   1.122665\n",
       "14         is_price   1.027699\n",
       "15       is_urgency   1.255966\n",
       "16  target_audience  10.947471"
      ]
     },
     "execution_count": 64,
     "metadata": {},
     "output_type": "execute_result"
    }
   ],
   "source": [
    "#multicollinearity\n",
    "X = train[[ 'sender', 'subject_len', 'body_len', 'day_of_week',\n",
    "       'is_weekend', 'category', 'product', 'no_of_CTA',\n",
    "       'mean_CTA_len', 'is_image', 'is_personalised', 'is_quote',\n",
    "       'is_emoticons', 'is_discount', 'is_price', 'is_urgency',\n",
    "       'target_audience']]\n",
    "vif_data = pd.DataFrame()\n",
    "vif_data['feature'] = X.columns\n",
    "vif_data['VIF'] = [variance_inflation_factor(X.values,i) for i in range(len(X.columns))]\n",
    "vif_data.head(25)"
   ]
  },
  {
   "cell_type": "code",
   "execution_count": 65,
   "id": "1e39a38e",
   "metadata": {},
   "outputs": [
    {
     "data": {
      "text/plain": [
       "Index(['campaign_id', 'sender', 'subject_len', 'body_len',\n",
       "       'mean_paragraph_len', 'day_of_week', 'is_weekend', 'times_of_day',\n",
       "       'category', 'product', 'no_of_CTA', 'mean_CTA_len', 'is_image',\n",
       "       'is_personalised', 'is_quote', 'is_emoticons', 'is_discount',\n",
       "       'is_price', 'is_urgency', 'target_audience', 'click_rate'],\n",
       "      dtype='object')"
      ]
     },
     "execution_count": 65,
     "metadata": {},
     "output_type": "execute_result"
    }
   ],
   "source": [
    "train.columns"
   ]
  },
  {
   "cell_type": "code",
   "execution_count": 66,
   "id": "9198b11b",
   "metadata": {},
   "outputs": [],
   "source": [
    "#sender, product, category, is_weekend, day_of_week, times_of_day,is_personalised,is_urgency,target_audience \n",
    "#are categorical,is_discount\n",
    "#numerical are subject and body len, no_of_CTA, mean_CTA_len, is_image, is_quote,is_emoticons,"
   ]
  },
  {
   "cell_type": "code",
   "execution_count": 67,
   "id": "677f3b2f",
   "metadata": {},
   "outputs": [],
   "source": [
    "# train['audience_time'] = train['times_of_day']*train['target_audience']\n",
    "# test['audience_time'] = test['times_of_day']*test['target_audience']\n",
    "\n",
    "# train['mail_length'] = train['body_len']+train['subject_len']\n",
    "# test['mail_length'] = test['body_len'] + test['subject_len']\n",
    "\n",
    "# drop_cols = ['times_of_day','body_len','subject_len','target_audience']\n",
    "# train.drop(drop_cols,axis=1,inplace=True)\n",
    "# test.drop(drop_cols,axis=1,inplace=True)"
   ]
  },
  {
   "cell_type": "markdown",
   "id": "6c5b9153",
   "metadata": {},
   "source": [
    "# Distribution of features"
   ]
  },
  {
   "cell_type": "code",
   "execution_count": 68,
   "id": "9cb848d6",
   "metadata": {},
   "outputs": [
    {
     "data": {
      "text/plain": [
       "<AxesSubplot:xlabel='body_len', ylabel='Count'>"
      ]
     },
     "execution_count": 68,
     "metadata": {},
     "output_type": "execute_result"
    },
    {
     "data": {
      "image/png": "[encoded data removed]",
      "text/plain": [
       "<Figure size 1368x1224 with 15 Axes>"
      ]
     },
     "metadata": {
      "needs_background": "light"
     },
     "output_type": "display_data"
    }
   ],
   "source": [
    "fig, ax = plt.subplots(nrows=5, ncols=3, figsize=(19,17))\n",
    "sns.histplot(data=train, x='sender', ax=ax[0][0])\n",
    "sns.histplot(data=train, x='is_weekend', ax=ax[0][1])\n",
    "sns.histplot(data=train, x='category', ax=ax[0][2])\n",
    "sns.histplot(data=train, x='product', ax=ax[1][0])\n",
    "sns.histplot(data=train, x='no_of_CTA', ax=ax[1][1])\n",
    "sns.histplot(data=train, x='mean_CTA_len', ax=ax[1][2])\n",
    "sns.histplot(data=train, x='is_image', ax=ax[2][0])\n",
    "sns.histplot(data=train, x='is_personalised', ax=ax[2][1])\n",
    "sns.histplot(data=train, x='is_quote', ax=ax[2][2])\n",
    "sns.histplot(data=train, x='is_emoticons', ax=ax[3][0])\n",
    "sns.histplot(data=train, x='is_discount', ax=ax[3][1])\n",
    "sns.histplot(data=train, x='is_price', ax=ax[3][2])\n",
    "sns.histplot(data=train, x='is_urgency', ax=ax[4][0])\n",
    "sns.histplot(data=train, x='target_audience', ax=ax[4][1])\n",
    "sns.histplot(data=train, x='body_len', ax=ax[4][2])"
   ]
  },
  {
   "cell_type": "code",
   "execution_count": 27,
   "id": "647aaf92",
   "metadata": {},
   "outputs": [
    {
     "data": {
      "text/plain": [
       "<AxesSubplot:>"
      ]
     },
     "execution_count": 27,
     "metadata": {},
     "output_type": "execute_result"
    },
    {
     "data": {
      "image/png": "[encoded data removed]",
      "text/plain": [
       "<Figure size 432x288 with 1 Axes>"
      ]
     },
     "metadata": {
      "needs_background": "light"
     },
     "output_type": "display_data"
    }
   ],
   "source": [
    "train['no_of_CTA'].hist()"
   ]
  },
  {
   "cell_type": "code",
   "execution_count": 28,
   "id": "d6d0ec79",
   "metadata": {},
   "outputs": [
    {
     "data": {
      "text/plain": [
       "Medium    1183\n",
       "High       452\n",
       "Low        253\n",
       "Name: mean_CTA_len, dtype: int64"
      ]
     },
     "execution_count": 28,
     "metadata": {},
     "output_type": "execute_result"
    }
   ],
   "source": [
    "bins = [-1,20,35,200]\n",
    "labels = ['Low','Medium','High']\n",
    "train['mean_CTA_len'] = pd.cut(train['mean_CTA_len'],bins=bins,labels=labels)\n",
    "test['mean_CTA_len'] = pd.cut(test['mean_CTA_len'],bins=bins,labels=labels)\n",
    "train['mean_CTA_len'].value_counts()"
   ]
  },
  {
   "cell_type": "code",
   "execution_count": 29,
   "id": "d69ea303",
   "metadata": {},
   "outputs": [
    {
     "data": {
      "text/plain": [
       "Low       1560\n",
       "Medium     187\n",
       "High       141\n",
       "Name: no_of_CTA, dtype: int64"
      ]
     },
     "execution_count": 29,
     "metadata": {},
     "output_type": "execute_result"
    }
   ],
   "source": [
    "bins = [-1,5,9,50]\n",
    "labels = ['Low','Medium','High']\n",
    "train['no_of_CTA'] = pd.cut(train['no_of_CTA'],bins=bins,labels=labels)\n",
    "test['no_of_CTA'] = pd.cut(test['no_of_CTA'],bins=bins,labels=labels)\n",
    "train['no_of_CTA'].value_counts()"
   ]
  },
  {
   "cell_type": "code",
   "execution_count": 30,
   "id": "6024d7ff",
   "metadata": {},
   "outputs": [
    {
     "data": {
      "text/plain": [
       "Medium    1326\n",
       "Low        291\n",
       "High       271\n",
       "Name: subject_len, dtype: int64"
      ]
     },
     "execution_count": 30,
     "metadata": {},
     "output_type": "execute_result"
    }
   ],
   "source": [
    "bins = [0,60,108,500]\n",
    "labels = ['Low','Medium','High']\n",
    "train['subject_len'] = pd.cut(train['subject_len'],bins=bins,labels=labels)\n",
    "train['subject_len'].value_counts()"
   ]
  },
  {
   "cell_type": "code",
   "execution_count": 31,
   "id": "6c0ddc34",
   "metadata": {},
   "outputs": [
    {
     "data": {
      "text/plain": [
       "Medium    987\n",
       "Low       467\n",
       "High      434\n",
       "Name: body_len, dtype: int64"
      ]
     },
     "execution_count": 31,
     "metadata": {},
     "output_type": "execute_result"
    }
   ],
   "source": [
    "bins = [-1,9500,18000,50000]\n",
    "labels = ['Low','Medium','High']\n",
    "train['body_len'] = pd.cut(train['body_len'],bins=bins,labels=labels)\n",
    "train['body_len'].value_counts()"
   ]
  },
  {
   "cell_type": "code",
   "execution_count": 32,
   "id": "ee96685e",
   "metadata": {},
   "outputs": [
    {
     "data": {
      "text/plain": [
       "Medium    957\n",
       "Low       771\n",
       "High      160\n",
       "Name: mean_paragraph_len, dtype: int64"
      ]
     },
     "execution_count": 32,
     "metadata": {},
     "output_type": "execute_result"
    }
   ],
   "source": [
    "bins = [0,25,60,300]\n",
    "labels = ['Low','Medium','High']\n",
    "train['mean_paragraph_len'] = pd.cut(train['mean_paragraph_len'],bins=bins,labels=labels)\n",
    "train['mean_paragraph_len'].value_counts()"
   ]
  },
  {
   "cell_type": "code",
   "execution_count": 33,
   "id": "bb06147e",
   "metadata": {},
   "outputs": [],
   "source": [
    "test['mean_paragraph_len'] = pd.cut(test['mean_paragraph_len'],bins=bins,labels=labels)\n",
    "test['body_len'] = pd.cut(test['body_len'],bins=bins,labels=labels)\n",
    "test['subject_len'] = pd.cut(test['subject_len'],bins=bins,labels=labels)"
   ]
  },
  {
   "cell_type": "markdown",
   "id": "4b891825",
   "metadata": {},
   "source": [
    "# train test split"
   ]
  },
  {
   "cell_type": "code",
   "execution_count": 74,
   "id": "82ddd7cf",
   "metadata": {},
   "outputs": [],
   "source": [
    "X=train.drop(['click_rate','campaign_id','times_of_day'],axis=1)\n",
    "y=train[['click_rate']]"
   ]
  },
  {
   "cell_type": "code",
   "execution_count": 75,
   "id": "fb9e1d60",
   "metadata": {},
   "outputs": [
    {
     "data": {
      "text/plain": [
       "Index(['sender', 'subject_len', 'body_len', 'mean_paragraph_len',\n",
       "       'day_of_week', 'is_weekend', 'category', 'product', 'no_of_CTA',\n",
       "       'mean_CTA_len', 'is_image', 'is_personalised', 'is_quote',\n",
       "       'is_emoticons', 'is_discount', 'is_price', 'is_urgency',\n",
       "       'target_audience', 'times_of_day_Evening', 'times_of_day_Morning',\n",
       "       'times_of_day_Noon'],\n",
       "      dtype='object')"
      ]
     },
     "execution_count": 75,
     "metadata": {},
     "output_type": "execute_result"
    }
   ],
   "source": [
    "X.columns"
   ]
  },
  {
   "cell_type": "code",
   "execution_count": 76,
   "id": "c71f8123",
   "metadata": {},
   "outputs": [
    {
     "data": {
      "text/html": [
       "<div>\n",
       "<style scoped>\n",
       "    .dataframe tbody tr th:only-of-type {\n",
       "        vertical-align: middle;\n",
       "    }\n",
       "\n",
       "    .dataframe tbody tr th {\n",
       "        vertical-align: top;\n",
       "    }\n",
       "\n",
       "    .dataframe thead th {\n",
       "        text-align: right;\n",
       "    }\n",
       "</style>\n",
       "<table border=\"1\" class=\"dataframe\">\n",
       "  <thead>\n",
       "    <tr style=\"text-align: right;\">\n",
       "      <th></th>\n",
       "      <th>sender</th>\n",
       "      <th>subject_len</th>\n",
       "      <th>body_len</th>\n",
       "      <th>mean_paragraph_len</th>\n",
       "      <th>day_of_week</th>\n",
       "      <th>is_weekend</th>\n",
       "      <th>category</th>\n",
       "      <th>product</th>\n",
       "      <th>no_of_CTA</th>\n",
       "      <th>mean_CTA_len</th>\n",
       "      <th>...</th>\n",
       "      <th>is_personalised</th>\n",
       "      <th>is_quote</th>\n",
       "      <th>is_emoticons</th>\n",
       "      <th>is_discount</th>\n",
       "      <th>is_price</th>\n",
       "      <th>is_urgency</th>\n",
       "      <th>target_audience</th>\n",
       "      <th>times_of_day_Evening</th>\n",
       "      <th>times_of_day_Morning</th>\n",
       "      <th>times_of_day_Noon</th>\n",
       "    </tr>\n",
       "  </thead>\n",
       "  <tbody>\n",
       "    <tr>\n",
       "      <th>0</th>\n",
       "      <td>3</td>\n",
       "      <td>76</td>\n",
       "      <td>10439</td>\n",
       "      <td>39</td>\n",
       "      <td>5</td>\n",
       "      <td>1</td>\n",
       "      <td>6</td>\n",
       "      <td>26</td>\n",
       "      <td>3</td>\n",
       "      <td>29</td>\n",
       "      <td>...</td>\n",
       "      <td>0</td>\n",
       "      <td>0</td>\n",
       "      <td>0</td>\n",
       "      <td>0</td>\n",
       "      <td>0</td>\n",
       "      <td>0</td>\n",
       "      <td>14</td>\n",
       "      <td>0</td>\n",
       "      <td>0</td>\n",
       "      <td>1</td>\n",
       "    </tr>\n",
       "    <tr>\n",
       "      <th>1</th>\n",
       "      <td>3</td>\n",
       "      <td>54</td>\n",
       "      <td>2570</td>\n",
       "      <td>256</td>\n",
       "      <td>5</td>\n",
       "      <td>1</td>\n",
       "      <td>2</td>\n",
       "      <td>11</td>\n",
       "      <td>0</td>\n",
       "      <td>22</td>\n",
       "      <td>...</td>\n",
       "      <td>0</td>\n",
       "      <td>0</td>\n",
       "      <td>0</td>\n",
       "      <td>0</td>\n",
       "      <td>0</td>\n",
       "      <td>0</td>\n",
       "      <td>10</td>\n",
       "      <td>0</td>\n",
       "      <td>1</td>\n",
       "      <td>0</td>\n",
       "    </tr>\n",
       "    <tr>\n",
       "      <th>2</th>\n",
       "      <td>3</td>\n",
       "      <td>59</td>\n",
       "      <td>12801</td>\n",
       "      <td>16</td>\n",
       "      <td>5</td>\n",
       "      <td>1</td>\n",
       "      <td>2</td>\n",
       "      <td>11</td>\n",
       "      <td>3</td>\n",
       "      <td>23</td>\n",
       "      <td>...</td>\n",
       "      <td>0</td>\n",
       "      <td>1</td>\n",
       "      <td>0</td>\n",
       "      <td>0</td>\n",
       "      <td>0</td>\n",
       "      <td>0</td>\n",
       "      <td>16</td>\n",
       "      <td>0</td>\n",
       "      <td>0</td>\n",
       "      <td>1</td>\n",
       "    </tr>\n",
       "    <tr>\n",
       "      <th>3</th>\n",
       "      <td>3</td>\n",
       "      <td>74</td>\n",
       "      <td>11037</td>\n",
       "      <td>30</td>\n",
       "      <td>4</td>\n",
       "      <td>0</td>\n",
       "      <td>15</td>\n",
       "      <td>9</td>\n",
       "      <td>4</td>\n",
       "      <td>24</td>\n",
       "      <td>...</td>\n",
       "      <td>0</td>\n",
       "      <td>0</td>\n",
       "      <td>0</td>\n",
       "      <td>0</td>\n",
       "      <td>0</td>\n",
       "      <td>0</td>\n",
       "      <td>10</td>\n",
       "      <td>1</td>\n",
       "      <td>0</td>\n",
       "      <td>0</td>\n",
       "    </tr>\n",
       "    <tr>\n",
       "      <th>4</th>\n",
       "      <td>3</td>\n",
       "      <td>80</td>\n",
       "      <td>10011</td>\n",
       "      <td>27</td>\n",
       "      <td>5</td>\n",
       "      <td>1</td>\n",
       "      <td>6</td>\n",
       "      <td>26</td>\n",
       "      <td>3</td>\n",
       "      <td>31</td>\n",
       "      <td>...</td>\n",
       "      <td>0</td>\n",
       "      <td>1</td>\n",
       "      <td>0</td>\n",
       "      <td>0</td>\n",
       "      <td>0</td>\n",
       "      <td>0</td>\n",
       "      <td>14</td>\n",
       "      <td>0</td>\n",
       "      <td>0</td>\n",
       "      <td>1</td>\n",
       "    </tr>\n",
       "  </tbody>\n",
       "</table>\n",
       "<p>5 rows × 21 columns</p>\n",
       "</div>"
      ],
      "text/plain": [
       "   sender  subject_len  body_len  mean_paragraph_len  day_of_week  is_weekend  \\\n",
       "0       3           76     10439                  39            5           1   \n",
       "1       3           54      2570                 256            5           1   \n",
       "2       3           59     12801                  16            5           1   \n",
       "3       3           74     11037                  30            4           0   \n",
       "4       3           80     10011                  27            5           1   \n",
       "\n",
       "   category  product  no_of_CTA  mean_CTA_len  ...  is_personalised  is_quote  \\\n",
       "0         6       26          3            29  ...                0         0   \n",
       "1         2       11          0            22  ...                0         0   \n",
       "2         2       11          3            23  ...                0         1   \n",
       "3        15        9          4            24  ...                0         0   \n",
       "4         6       26          3            31  ...                0         1   \n",
       "\n",
       "   is_emoticons  is_discount  is_price  is_urgency  target_audience  \\\n",
       "0             0            0         0           0               14   \n",
       "1             0            0         0           0               10   \n",
       "2             0            0         0           0               16   \n",
       "3             0            0         0           0               10   \n",
       "4             0            0         0           0               14   \n",
       "\n",
       "   times_of_day_Evening  times_of_day_Morning  times_of_day_Noon  \n",
       "0                     0                     0                  1  \n",
       "1                     0                     1                  0  \n",
       "2                     0                     0                  1  \n",
       "3                     1                     0                  0  \n",
       "4                     0                     0                  1  \n",
       "\n",
       "[5 rows x 21 columns]"
      ]
     },
     "execution_count": 76,
     "metadata": {},
     "output_type": "execute_result"
    }
   ],
   "source": [
    "X.head()"
   ]
  },
  {
   "cell_type": "code",
   "execution_count": 77,
   "id": "8ad2dbeb",
   "metadata": {},
   "outputs": [],
   "source": [
    "X_train,X_test, y_train,y_test = train_test_split(X,y,train_size=0.8,test_size=0.2,random_state=42)"
   ]
  },
  {
   "cell_type": "code",
   "execution_count": 36,
   "id": "4478c4ba",
   "metadata": {},
   "outputs": [],
   "source": [
    "# cols = [ 'sender', 'subject_len', 'body_len', 'mean_paragraph_len',\n",
    "#        'day_of_week', 'is_weekend', 'times_of_day', 'category', 'product',\n",
    "#        'no_of_CTA', 'mean_CTA_len', 'is_image', 'is_personalised', 'is_quote',\n",
    "#        'is_emoticons', 'is_discount', 'is_price', 'is_urgency',\n",
    "#        'target_audience']\n",
    "# X[cols] = X[cols].astype('category')\n",
    "\n",
    "# cat_indices = []\n",
    "# for col in cols:\n",
    "#     cat_indices.append(X.columns.get_loc(col))"
   ]
  },
  {
   "cell_type": "code",
   "execution_count": 78,
   "id": "3c335eda",
   "metadata": {},
   "outputs": [],
   "source": [
    "# std = MinMaxScaler()\n",
    "# cols = ['no_of_CTA','mean_CTA_len',]\n",
    "# X_train[cols] = std.fit_transform(X_train[cols])"
   ]
  },
  {
   "cell_type": "markdown",
   "id": "3416914b",
   "metadata": {},
   "source": [
    "# Transformation"
   ]
  },
  {
   "cell_type": "code",
   "execution_count": null,
   "id": "2960692f",
   "metadata": {},
   "outputs": [],
   "source": [
    "from scipy import stats\n",
    "y_train = y_train['click_rate'].to_numpy()"
   ]
  },
  {
   "cell_type": "code",
   "execution_count": 37,
   "id": "d388967a",
   "metadata": {},
   "outputs": [],
   "source": []
  },
  {
   "cell_type": "code",
   "execution_count": 40,
   "id": "f99fe0c2",
   "metadata": {},
   "outputs": [
    {
     "data": {
      "text/plain": [
       "[0, 1, 2, 3, 4, 5, 6, 7, 8, 9, 10, 11, 12, 13, 14, 15, 16, 17, 18]"
      ]
     },
     "execution_count": 40,
     "metadata": {},
     "output_type": "execute_result"
    }
   ],
   "source": [
    "cat_indices"
   ]
  },
  {
   "cell_type": "code",
   "execution_count": null,
   "id": "fc21050e",
   "metadata": {},
   "outputs": [],
   "source": [
    "#log tranformation of y variable\n",
    "y_train_transformed = stats.boxcox(y_train)"
   ]
  },
  {
   "cell_type": "code",
   "execution_count": null,
   "id": "2dd4dd3a",
   "metadata": {},
   "outputs": [],
   "source": [
    "y_train_transformed['click_rate'].hist()"
   ]
  },
  {
   "cell_type": "markdown",
   "id": "3400e087",
   "metadata": {},
   "source": [
    "# Linear regression"
   ]
  },
  {
   "cell_type": "code",
   "execution_count": 79,
   "id": "c2c809c2",
   "metadata": {},
   "outputs": [
    {
     "name": "stdout",
     "output_type": "stream",
     "text": [
      "Coefficients:  [[-4.82858971e-04 -1.79535526e-04 -1.24037834e-06  3.54540988e-04\n",
      "  -5.67126527e-04  1.20673617e-02 -2.12626756e-03  7.53484298e-04\n",
      "  -1.43068592e-03  6.93200622e-05 -3.36072116e-03 -3.61104806e-03\n",
      "  -1.46801090e-02 -2.10889143e-02 -9.91481730e-03 -1.70625528e-02\n",
      "  -1.29234326e-02  1.41441746e-03 -1.91946183e-02  1.90650423e-02\n",
      "   1.29575943e-04]]\n",
      "Test Variance score: 0.12120210201510917\n",
      "Train Variance score: 0.15846170275423954\n"
     ]
    }
   ],
   "source": [
    "lr = linear_model.LinearRegression(fit_intercept=True,positive=False)\n",
    "lr.fit(X_train,y_train)\n",
    "\n",
    "# regression coefficients\n",
    "print('Coefficients: ', lr.coef_)\n",
    "  \n",
    "# variance score: 1 means perfect prediction\n",
    "print('Test Variance score: {}'.format(lr.score(X_test, y_test)))\n",
    "print('Train Variance score: {}'.format(lr.score(X_train, y_train)))"
   ]
  },
  {
   "cell_type": "code",
   "execution_count": 80,
   "id": "8b8a8abe",
   "metadata": {},
   "outputs": [
    {
     "data": {
      "text/plain": [
       "0.12120210201510917"
      ]
     },
     "execution_count": 80,
     "metadata": {},
     "output_type": "execute_result"
    }
   ],
   "source": [
    "preds = lr.predict(X_test)\n",
    "# preds = preds**2\n",
    "r2_score(y_test,preds)"
   ]
  },
  {
   "cell_type": "code",
   "execution_count": 81,
   "id": "0e99abf1",
   "metadata": {},
   "outputs": [
    {
     "data": {
      "image/png": "[encoded data removed]",
      "text/plain": [
       "<Figure size 432x288 with 1 Axes>"
      ]
     },
     "metadata": {},
     "output_type": "display_data"
    }
   ],
   "source": [
    "# plot for residual error\n",
    "  \n",
    "## setting plot style\n",
    "plt.style.use('fivethirtyeight')\n",
    "  \n",
    "## plotting residual errors in training data\n",
    "plt.scatter(lr.predict(X_train), lr.predict(X_train) - y_train,\n",
    "            color = \"green\", s = 10, label = 'Train data')\n",
    "  \n",
    "## plotting residual errors in test data\n",
    "plt.scatter(lr.predict(X_test), lr.predict(X_test) - y_test,\n",
    "            color = \"blue\", s = 10, label = 'Test data')\n",
    "  \n",
    "## plotting line for zero residual error\n",
    "plt.hlines(y = 0, xmin = 0.01, xmax = 0.4, linewidth = 2)\n",
    "  \n",
    "## plotting legend\n",
    "plt.legend(loc = 'upper right')\n",
    "  \n",
    "## plot title\n",
    "plt.title(\"Residual errors\")\n",
    "  \n",
    "## method call for showing the plot\n",
    "plt.show()\n"
   ]
  },
  {
   "cell_type": "code",
   "execution_count": 82,
   "id": "302ec3cc",
   "metadata": {},
   "outputs": [
    {
     "data": {
      "text/plain": [
       "0.12120210201510917"
      ]
     },
     "execution_count": 82,
     "metadata": {},
     "output_type": "execute_result"
    }
   ],
   "source": [
    "y_pred = lr.predict(X_test)\n",
    "r2_score(y_test,y_pred)"
   ]
  },
  {
   "cell_type": "markdown",
   "id": "65fdbcfc",
   "metadata": {},
   "source": [
    "# Decision Tree Classifier"
   ]
  },
  {
   "cell_type": "code",
   "execution_count": 83,
   "id": "54dd5cd0",
   "metadata": {},
   "outputs": [
    {
     "data": {
      "text/plain": [
       "-0.7399587554522422"
      ]
     },
     "execution_count": 83,
     "metadata": {},
     "output_type": "execute_result"
    }
   ],
   "source": [
    "dt = DecisionTreeRegressor(random_state=42)\n",
    "dt.fit(X_train,y_train)\n",
    "y_pred = dt.predict(X_test)\n",
    "r2_score(y_test,y_pred)"
   ]
  },
  {
   "cell_type": "markdown",
   "id": "226919c9",
   "metadata": {},
   "source": [
    "# Random Forest Regressor"
   ]
  },
  {
   "cell_type": "code",
   "execution_count": 84,
   "id": "236aee2d",
   "metadata": {},
   "outputs": [
    {
     "data": {
      "text/html": [
       "<div>\n",
       "<style scoped>\n",
       "    .dataframe tbody tr th:only-of-type {\n",
       "        vertical-align: middle;\n",
       "    }\n",
       "\n",
       "    .dataframe tbody tr th {\n",
       "        vertical-align: top;\n",
       "    }\n",
       "\n",
       "    .dataframe thead th {\n",
       "        text-align: right;\n",
       "    }\n",
       "</style>\n",
       "<table border=\"1\" class=\"dataframe\">\n",
       "  <thead>\n",
       "    <tr style=\"text-align: right;\">\n",
       "      <th></th>\n",
       "      <th>sender</th>\n",
       "      <th>subject_len</th>\n",
       "      <th>body_len</th>\n",
       "      <th>mean_paragraph_len</th>\n",
       "      <th>day_of_week</th>\n",
       "      <th>is_weekend</th>\n",
       "      <th>category</th>\n",
       "      <th>product</th>\n",
       "      <th>no_of_CTA</th>\n",
       "      <th>mean_CTA_len</th>\n",
       "      <th>...</th>\n",
       "      <th>is_personalised</th>\n",
       "      <th>is_quote</th>\n",
       "      <th>is_emoticons</th>\n",
       "      <th>is_discount</th>\n",
       "      <th>is_price</th>\n",
       "      <th>is_urgency</th>\n",
       "      <th>target_audience</th>\n",
       "      <th>times_of_day_Evening</th>\n",
       "      <th>times_of_day_Morning</th>\n",
       "      <th>times_of_day_Noon</th>\n",
       "    </tr>\n",
       "  </thead>\n",
       "  <tbody>\n",
       "    <tr>\n",
       "      <th>1474</th>\n",
       "      <td>10</td>\n",
       "      <td>70</td>\n",
       "      <td>25482</td>\n",
       "      <td>17</td>\n",
       "      <td>1</td>\n",
       "      <td>0</td>\n",
       "      <td>15</td>\n",
       "      <td>12</td>\n",
       "      <td>5</td>\n",
       "      <td>26</td>\n",
       "      <td>...</td>\n",
       "      <td>0</td>\n",
       "      <td>1</td>\n",
       "      <td>0</td>\n",
       "      <td>0</td>\n",
       "      <td>0</td>\n",
       "      <td>0</td>\n",
       "      <td>12</td>\n",
       "      <td>1</td>\n",
       "      <td>0</td>\n",
       "      <td>0</td>\n",
       "    </tr>\n",
       "    <tr>\n",
       "      <th>1359</th>\n",
       "      <td>3</td>\n",
       "      <td>55</td>\n",
       "      <td>15812</td>\n",
       "      <td>17</td>\n",
       "      <td>0</td>\n",
       "      <td>0</td>\n",
       "      <td>15</td>\n",
       "      <td>9</td>\n",
       "      <td>2</td>\n",
       "      <td>24</td>\n",
       "      <td>...</td>\n",
       "      <td>0</td>\n",
       "      <td>0</td>\n",
       "      <td>0</td>\n",
       "      <td>0</td>\n",
       "      <td>0</td>\n",
       "      <td>0</td>\n",
       "      <td>12</td>\n",
       "      <td>1</td>\n",
       "      <td>0</td>\n",
       "      <td>0</td>\n",
       "    </tr>\n",
       "    <tr>\n",
       "      <th>932</th>\n",
       "      <td>3</td>\n",
       "      <td>93</td>\n",
       "      <td>6956</td>\n",
       "      <td>48</td>\n",
       "      <td>3</td>\n",
       "      <td>0</td>\n",
       "      <td>15</td>\n",
       "      <td>28</td>\n",
       "      <td>2</td>\n",
       "      <td>38</td>\n",
       "      <td>...</td>\n",
       "      <td>0</td>\n",
       "      <td>1</td>\n",
       "      <td>0</td>\n",
       "      <td>0</td>\n",
       "      <td>0</td>\n",
       "      <td>0</td>\n",
       "      <td>12</td>\n",
       "      <td>1</td>\n",
       "      <td>0</td>\n",
       "      <td>0</td>\n",
       "    </tr>\n",
       "    <tr>\n",
       "      <th>618</th>\n",
       "      <td>3</td>\n",
       "      <td>66</td>\n",
       "      <td>21556</td>\n",
       "      <td>26</td>\n",
       "      <td>2</td>\n",
       "      <td>0</td>\n",
       "      <td>4</td>\n",
       "      <td>16</td>\n",
       "      <td>4</td>\n",
       "      <td>30</td>\n",
       "      <td>...</td>\n",
       "      <td>0</td>\n",
       "      <td>0</td>\n",
       "      <td>0</td>\n",
       "      <td>0</td>\n",
       "      <td>0</td>\n",
       "      <td>0</td>\n",
       "      <td>12</td>\n",
       "      <td>1</td>\n",
       "      <td>0</td>\n",
       "      <td>0</td>\n",
       "    </tr>\n",
       "    <tr>\n",
       "      <th>588</th>\n",
       "      <td>3</td>\n",
       "      <td>86</td>\n",
       "      <td>14196</td>\n",
       "      <td>32</td>\n",
       "      <td>4</td>\n",
       "      <td>0</td>\n",
       "      <td>15</td>\n",
       "      <td>31</td>\n",
       "      <td>4</td>\n",
       "      <td>38</td>\n",
       "      <td>...</td>\n",
       "      <td>0</td>\n",
       "      <td>0</td>\n",
       "      <td>1</td>\n",
       "      <td>0</td>\n",
       "      <td>0</td>\n",
       "      <td>0</td>\n",
       "      <td>12</td>\n",
       "      <td>0</td>\n",
       "      <td>0</td>\n",
       "      <td>1</td>\n",
       "    </tr>\n",
       "  </tbody>\n",
       "</table>\n",
       "<p>5 rows × 21 columns</p>\n",
       "</div>"
      ],
      "text/plain": [
       "      sender  subject_len  body_len  mean_paragraph_len  day_of_week  \\\n",
       "1474      10           70     25482                  17            1   \n",
       "1359       3           55     15812                  17            0   \n",
       "932        3           93      6956                  48            3   \n",
       "618        3           66     21556                  26            2   \n",
       "588        3           86     14196                  32            4   \n",
       "\n",
       "      is_weekend  category  product  no_of_CTA  mean_CTA_len  ...  \\\n",
       "1474           0        15       12          5            26  ...   \n",
       "1359           0        15        9          2            24  ...   \n",
       "932            0        15       28          2            38  ...   \n",
       "618            0         4       16          4            30  ...   \n",
       "588            0        15       31          4            38  ...   \n",
       "\n",
       "      is_personalised  is_quote  is_emoticons  is_discount  is_price  \\\n",
       "1474                0         1             0            0         0   \n",
       "1359                0         0             0            0         0   \n",
       "932                 0         1             0            0         0   \n",
       "618                 0         0             0            0         0   \n",
       "588                 0         0             1            0         0   \n",
       "\n",
       "      is_urgency  target_audience  times_of_day_Evening  times_of_day_Morning  \\\n",
       "1474           0               12                     1                     0   \n",
       "1359           0               12                     1                     0   \n",
       "932            0               12                     1                     0   \n",
       "618            0               12                     1                     0   \n",
       "588            0               12                     0                     0   \n",
       "\n",
       "      times_of_day_Noon  \n",
       "1474                  0  \n",
       "1359                  0  \n",
       "932                   0  \n",
       "618                   0  \n",
       "588                   1  \n",
       "\n",
       "[5 rows x 21 columns]"
      ]
     },
     "execution_count": 84,
     "metadata": {},
     "output_type": "execute_result"
    }
   ],
   "source": [
    "X_train.head()"
   ]
  },
  {
   "cell_type": "code",
   "execution_count": 85,
   "id": "3fe2d1b7",
   "metadata": {},
   "outputs": [
    {
     "name": "stderr",
     "output_type": "stream",
     "text": [
      "/var/folders/9x/j42r0vlj4lv95k0r2zfxlpfr0000gn/T/ipykernel_714/1387117488.py:2: DataConversionWarning: A column-vector y was passed when a 1d array was expected. Please change the shape of y to (n_samples,), for example using ravel().\n",
      "  rf.fit(X_train,y_train)\n"
     ]
    },
    {
     "name": "stdout",
     "output_type": "stream",
     "text": [
      "0.4875830204304761\n",
      "0.9287819517393455\n"
     ]
    }
   ],
   "source": [
    "rf = RandomForestRegressor(random_state=42)\n",
    "rf.fit(X_train,y_train)\n",
    "y_pred = rf.predict(X_test)\n",
    "#y_pred = y_pred**2\n",
    "print(r2_score(y_test,y_pred))\n",
    "y_pred_train = rf.predict(X_train)\n",
    "#y_pred_train = y_pred_train **2\n",
    "print(r2_score(y_train,y_pred_train))"
   ]
  },
  {
   "cell_type": "code",
   "execution_count": 86,
   "id": "920777b4",
   "metadata": {},
   "outputs": [
    {
     "name": "stdout",
     "output_type": "stream",
     "text": [
      "{'n_estimators': [50, 211, 372, 533, 694, 855, 1016, 1177, 1338, 1500], 'max_features': ['auto', 'sqrt'], 'max_depth': [3, 13, 24, 35, 45, 56, 67, 77, 88, 99, 110], 'min_samples_split': [2, 5, 10], 'min_samples_leaf': [1, 2, 4], 'bootstrap': [True, False]}\n"
     ]
    }
   ],
   "source": [
    "# Number of trees in random forest\n",
    "n_estimators = [int(x) for x in np.linspace(start = 50, stop = 1500, num = 10)]\n",
    "# Number of features to consider at every split\n",
    "max_features = ['auto', 'sqrt']\n",
    "# Maximum number of levels in tree\n",
    "max_depth = [int(x) for x in np.linspace(3, 110, num = 11)]\n",
    "# Minimum number of samples required to split a node\n",
    "min_samples_split = [2, 5, 10]\n",
    "# Minimum number of samples required at each leaf node\n",
    "min_samples_leaf = [1, 2, 4]\n",
    "# Method of selecting samples for training each tree\n",
    "bootstrap = [True, False]\n",
    "# Create the random grid\n",
    "random_grid = {'n_estimators': n_estimators,\n",
    "               'max_features': max_features,\n",
    "               'max_depth': max_depth,\n",
    "               'min_samples_split': min_samples_split,\n",
    "               'min_samples_leaf': min_samples_leaf,\n",
    "               'bootstrap': bootstrap}\n",
    "print(random_grid)"
   ]
  },
  {
   "cell_type": "code",
   "execution_count": 87,
   "id": "18e5875f",
   "metadata": {},
   "outputs": [
    {
     "name": "stdout",
     "output_type": "stream",
     "text": [
      "Fitting 5 folds for each of 10 candidates, totalling 50 fits\n"
     ]
    },
    {
     "name": "stderr",
     "output_type": "stream",
     "text": [
      "/Users/satyasriallaka/.local/lib/python3.9/site-packages/sklearn/model_selection/_validation.py:598: DataConversionWarning: A column-vector y was passed when a 1d array was expected. Please change the shape of y to (n_samples,), for example using ravel().\n",
      "  estimator.fit(X_train, y_train, **fit_params)\n",
      "/Users/satyasriallaka/.local/lib/python3.9/site-packages/sklearn/model_selection/_validation.py:598: DataConversionWarning: A column-vector y was passed when a 1d array was expected. Please change the shape of y to (n_samples,), for example using ravel().\n",
      "  estimator.fit(X_train, y_train, **fit_params)\n",
      "/Users/satyasriallaka/.local/lib/python3.9/site-packages/sklearn/model_selection/_validation.py:598: DataConversionWarning: A column-vector y was passed when a 1d array was expected. Please change the shape of y to (n_samples,), for example using ravel().\n",
      "  estimator.fit(X_train, y_train, **fit_params)\n",
      "/Users/satyasriallaka/.local/lib/python3.9/site-packages/sklearn/model_selection/_validation.py:598: DataConversionWarning: A column-vector y was passed when a 1d array was expected. Please change the shape of y to (n_samples,), for example using ravel().\n",
      "  estimator.fit(X_train, y_train, **fit_params)\n",
      "/Users/satyasriallaka/.local/lib/python3.9/site-packages/sklearn/model_selection/_validation.py:598: DataConversionWarning: A column-vector y was passed when a 1d array was expected. Please change the shape of y to (n_samples,), for example using ravel().\n",
      "  estimator.fit(X_train, y_train, **fit_params)\n",
      "/Users/satyasriallaka/.local/lib/python3.9/site-packages/sklearn/model_selection/_validation.py:598: DataConversionWarning: A column-vector y was passed when a 1d array was expected. Please change the shape of y to (n_samples,), for example using ravel().\n",
      "  estimator.fit(X_train, y_train, **fit_params)\n",
      "/Users/satyasriallaka/.local/lib/python3.9/site-packages/sklearn/model_selection/_validation.py:598: DataConversionWarning: A column-vector y was passed when a 1d array was expected. Please change the shape of y to (n_samples,), for example using ravel().\n",
      "  estimator.fit(X_train, y_train, **fit_params)\n",
      "/Users/satyasriallaka/.local/lib/python3.9/site-packages/sklearn/model_selection/_validation.py:598: DataConversionWarning: A column-vector y was passed when a 1d array was expected. Please change the shape of y to (n_samples,), for example using ravel().\n",
      "  estimator.fit(X_train, y_train, **fit_params)\n",
      "/Users/satyasriallaka/.local/lib/python3.9/site-packages/sklearn/model_selection/_validation.py:598: DataConversionWarning: A column-vector y was passed when a 1d array was expected. Please change the shape of y to (n_samples,), for example using ravel().\n",
      "  estimator.fit(X_train, y_train, **fit_params)\n",
      "/Users/satyasriallaka/.local/lib/python3.9/site-packages/sklearn/model_selection/_validation.py:598: DataConversionWarning: A column-vector y was passed when a 1d array was expected. Please change the shape of y to (n_samples,), for example using ravel().\n",
      "  estimator.fit(X_train, y_train, **fit_params)\n",
      "/Users/satyasriallaka/.local/lib/python3.9/site-packages/sklearn/model_selection/_validation.py:598: DataConversionWarning: A column-vector y was passed when a 1d array was expected. Please change the shape of y to (n_samples,), for example using ravel().\n",
      "  estimator.fit(X_train, y_train, **fit_params)\n",
      "/Users/satyasriallaka/.local/lib/python3.9/site-packages/sklearn/model_selection/_validation.py:598: DataConversionWarning: A column-vector y was passed when a 1d array was expected. Please change the shape of y to (n_samples,), for example using ravel().\n",
      "  estimator.fit(X_train, y_train, **fit_params)\n",
      "/Users/satyasriallaka/.local/lib/python3.9/site-packages/sklearn/model_selection/_validation.py:598: DataConversionWarning: A column-vector y was passed when a 1d array was expected. Please change the shape of y to (n_samples,), for example using ravel().\n",
      "  estimator.fit(X_train, y_train, **fit_params)\n",
      "/Users/satyasriallaka/.local/lib/python3.9/site-packages/sklearn/model_selection/_validation.py:598: DataConversionWarning: A column-vector y was passed when a 1d array was expected. Please change the shape of y to (n_samples,), for example using ravel().\n",
      "  estimator.fit(X_train, y_train, **fit_params)\n",
      "/Users/satyasriallaka/.local/lib/python3.9/site-packages/sklearn/model_selection/_validation.py:598: DataConversionWarning: A column-vector y was passed when a 1d array was expected. Please change the shape of y to (n_samples,), for example using ravel().\n",
      "  estimator.fit(X_train, y_train, **fit_params)\n",
      "/Users/satyasriallaka/.local/lib/python3.9/site-packages/sklearn/model_selection/_validation.py:598: DataConversionWarning: A column-vector y was passed when a 1d array was expected. Please change the shape of y to (n_samples,), for example using ravel().\n",
      "  estimator.fit(X_train, y_train, **fit_params)\n",
      "/Users/satyasriallaka/.local/lib/python3.9/site-packages/sklearn/model_selection/_validation.py:598: DataConversionWarning: A column-vector y was passed when a 1d array was expected. Please change the shape of y to (n_samples,), for example using ravel().\n",
      "  estimator.fit(X_train, y_train, **fit_params)\n",
      "/Users/satyasriallaka/.local/lib/python3.9/site-packages/sklearn/model_selection/_validation.py:598: DataConversionWarning: A column-vector y was passed when a 1d array was expected. Please change the shape of y to (n_samples,), for example using ravel().\n",
      "  estimator.fit(X_train, y_train, **fit_params)\n",
      "/Users/satyasriallaka/.local/lib/python3.9/site-packages/sklearn/model_selection/_validation.py:598: DataConversionWarning: A column-vector y was passed when a 1d array was expected. Please change the shape of y to (n_samples,), for example using ravel().\n",
      "  estimator.fit(X_train, y_train, **fit_params)\n",
      "/Users/satyasriallaka/.local/lib/python3.9/site-packages/sklearn/model_selection/_validation.py:598: DataConversionWarning: A column-vector y was passed when a 1d array was expected. Please change the shape of y to (n_samples,), for example using ravel().\n",
      "  estimator.fit(X_train, y_train, **fit_params)\n",
      "/Users/satyasriallaka/.local/lib/python3.9/site-packages/sklearn/model_selection/_validation.py:598: DataConversionWarning: A column-vector y was passed when a 1d array was expected. Please change the shape of y to (n_samples,), for example using ravel().\n",
      "  estimator.fit(X_train, y_train, **fit_params)\n",
      "/Users/satyasriallaka/.local/lib/python3.9/site-packages/sklearn/model_selection/_validation.py:598: DataConversionWarning: A column-vector y was passed when a 1d array was expected. Please change the shape of y to (n_samples,), for example using ravel().\n",
      "  estimator.fit(X_train, y_train, **fit_params)\n",
      "/Users/satyasriallaka/.local/lib/python3.9/site-packages/sklearn/model_selection/_validation.py:598: DataConversionWarning: A column-vector y was passed when a 1d array was expected. Please change the shape of y to (n_samples,), for example using ravel().\n",
      "  estimator.fit(X_train, y_train, **fit_params)\n",
      "/Users/satyasriallaka/.local/lib/python3.9/site-packages/sklearn/model_selection/_validation.py:598: DataConversionWarning: A column-vector y was passed when a 1d array was expected. Please change the shape of y to (n_samples,), for example using ravel().\n",
      "  estimator.fit(X_train, y_train, **fit_params)\n",
      "/Users/satyasriallaka/.local/lib/python3.9/site-packages/sklearn/model_selection/_validation.py:598: DataConversionWarning: A column-vector y was passed when a 1d array was expected. Please change the shape of y to (n_samples,), for example using ravel().\n",
      "  estimator.fit(X_train, y_train, **fit_params)\n",
      "/Users/satyasriallaka/.local/lib/python3.9/site-packages/sklearn/model_selection/_validation.py:598: DataConversionWarning: A column-vector y was passed when a 1d array was expected. Please change the shape of y to (n_samples,), for example using ravel().\n",
      "  estimator.fit(X_train, y_train, **fit_params)\n",
      "/Users/satyasriallaka/.local/lib/python3.9/site-packages/sklearn/model_selection/_validation.py:598: DataConversionWarning: A column-vector y was passed when a 1d array was expected. Please change the shape of y to (n_samples,), for example using ravel().\n",
      "  estimator.fit(X_train, y_train, **fit_params)\n",
      "/Users/satyasriallaka/.local/lib/python3.9/site-packages/sklearn/model_selection/_validation.py:598: DataConversionWarning: A column-vector y was passed when a 1d array was expected. Please change the shape of y to (n_samples,), for example using ravel().\n",
      "  estimator.fit(X_train, y_train, **fit_params)\n"
     ]
    },
    {
     "name": "stderr",
     "output_type": "stream",
     "text": [
      "/Users/satyasriallaka/.local/lib/python3.9/site-packages/sklearn/model_selection/_validation.py:598: DataConversionWarning: A column-vector y was passed when a 1d array was expected. Please change the shape of y to (n_samples,), for example using ravel().\n",
      "  estimator.fit(X_train, y_train, **fit_params)\n",
      "/Users/satyasriallaka/.local/lib/python3.9/site-packages/sklearn/model_selection/_validation.py:598: DataConversionWarning: A column-vector y was passed when a 1d array was expected. Please change the shape of y to (n_samples,), for example using ravel().\n",
      "  estimator.fit(X_train, y_train, **fit_params)\n",
      "/Users/satyasriallaka/.local/lib/python3.9/site-packages/sklearn/model_selection/_validation.py:598: DataConversionWarning: A column-vector y was passed when a 1d array was expected. Please change the shape of y to (n_samples,), for example using ravel().\n",
      "  estimator.fit(X_train, y_train, **fit_params)\n",
      "/Users/satyasriallaka/.local/lib/python3.9/site-packages/sklearn/model_selection/_validation.py:598: DataConversionWarning: A column-vector y was passed when a 1d array was expected. Please change the shape of y to (n_samples,), for example using ravel().\n",
      "  estimator.fit(X_train, y_train, **fit_params)\n",
      "/Users/satyasriallaka/.local/lib/python3.9/site-packages/sklearn/model_selection/_validation.py:598: DataConversionWarning: A column-vector y was passed when a 1d array was expected. Please change the shape of y to (n_samples,), for example using ravel().\n",
      "  estimator.fit(X_train, y_train, **fit_params)\n",
      "/Users/satyasriallaka/.local/lib/python3.9/site-packages/sklearn/model_selection/_validation.py:598: DataConversionWarning: A column-vector y was passed when a 1d array was expected. Please change the shape of y to (n_samples,), for example using ravel().\n",
      "  estimator.fit(X_train, y_train, **fit_params)\n",
      "/Users/satyasriallaka/.local/lib/python3.9/site-packages/sklearn/model_selection/_validation.py:598: DataConversionWarning: A column-vector y was passed when a 1d array was expected. Please change the shape of y to (n_samples,), for example using ravel().\n",
      "  estimator.fit(X_train, y_train, **fit_params)\n",
      "/Users/satyasriallaka/.local/lib/python3.9/site-packages/sklearn/model_selection/_validation.py:598: DataConversionWarning: A column-vector y was passed when a 1d array was expected. Please change the shape of y to (n_samples,), for example using ravel().\n",
      "  estimator.fit(X_train, y_train, **fit_params)\n",
      "/Users/satyasriallaka/.local/lib/python3.9/site-packages/sklearn/model_selection/_validation.py:598: DataConversionWarning: A column-vector y was passed when a 1d array was expected. Please change the shape of y to (n_samples,), for example using ravel().\n",
      "  estimator.fit(X_train, y_train, **fit_params)\n",
      "/Users/satyasriallaka/.local/lib/python3.9/site-packages/sklearn/model_selection/_validation.py:598: DataConversionWarning: A column-vector y was passed when a 1d array was expected. Please change the shape of y to (n_samples,), for example using ravel().\n",
      "  estimator.fit(X_train, y_train, **fit_params)\n",
      "/Users/satyasriallaka/.local/lib/python3.9/site-packages/sklearn/model_selection/_validation.py:598: DataConversionWarning: A column-vector y was passed when a 1d array was expected. Please change the shape of y to (n_samples,), for example using ravel().\n",
      "  estimator.fit(X_train, y_train, **fit_params)\n",
      "/Users/satyasriallaka/.local/lib/python3.9/site-packages/sklearn/model_selection/_validation.py:598: DataConversionWarning: A column-vector y was passed when a 1d array was expected. Please change the shape of y to (n_samples,), for example using ravel().\n",
      "  estimator.fit(X_train, y_train, **fit_params)\n",
      "/Users/satyasriallaka/.local/lib/python3.9/site-packages/sklearn/model_selection/_validation.py:598: DataConversionWarning: A column-vector y was passed when a 1d array was expected. Please change the shape of y to (n_samples,), for example using ravel().\n",
      "  estimator.fit(X_train, y_train, **fit_params)\n",
      "/Users/satyasriallaka/.local/lib/python3.9/site-packages/sklearn/model_selection/_validation.py:598: DataConversionWarning: A column-vector y was passed when a 1d array was expected. Please change the shape of y to (n_samples,), for example using ravel().\n",
      "  estimator.fit(X_train, y_train, **fit_params)\n",
      "/Users/satyasriallaka/.local/lib/python3.9/site-packages/sklearn/model_selection/_validation.py:598: DataConversionWarning: A column-vector y was passed when a 1d array was expected. Please change the shape of y to (n_samples,), for example using ravel().\n",
      "  estimator.fit(X_train, y_train, **fit_params)\n",
      "/Users/satyasriallaka/.local/lib/python3.9/site-packages/sklearn/model_selection/_validation.py:598: DataConversionWarning: A column-vector y was passed when a 1d array was expected. Please change the shape of y to (n_samples,), for example using ravel().\n",
      "  estimator.fit(X_train, y_train, **fit_params)\n",
      "/Users/satyasriallaka/.local/lib/python3.9/site-packages/sklearn/model_selection/_validation.py:598: DataConversionWarning: A column-vector y was passed when a 1d array was expected. Please change the shape of y to (n_samples,), for example using ravel().\n",
      "  estimator.fit(X_train, y_train, **fit_params)\n",
      "/Users/satyasriallaka/.local/lib/python3.9/site-packages/sklearn/model_selection/_validation.py:598: DataConversionWarning: A column-vector y was passed when a 1d array was expected. Please change the shape of y to (n_samples,), for example using ravel().\n",
      "  estimator.fit(X_train, y_train, **fit_params)\n",
      "/Users/satyasriallaka/.local/lib/python3.9/site-packages/sklearn/model_selection/_validation.py:598: DataConversionWarning: A column-vector y was passed when a 1d array was expected. Please change the shape of y to (n_samples,), for example using ravel().\n",
      "  estimator.fit(X_train, y_train, **fit_params)\n",
      "/Users/satyasriallaka/.local/lib/python3.9/site-packages/sklearn/model_selection/_validation.py:598: DataConversionWarning: A column-vector y was passed when a 1d array was expected. Please change the shape of y to (n_samples,), for example using ravel().\n",
      "  estimator.fit(X_train, y_train, **fit_params)\n",
      "/Users/satyasriallaka/.local/lib/python3.9/site-packages/sklearn/model_selection/_validation.py:598: DataConversionWarning: A column-vector y was passed when a 1d array was expected. Please change the shape of y to (n_samples,), for example using ravel().\n",
      "  estimator.fit(X_train, y_train, **fit_params)\n",
      "/Users/satyasriallaka/.local/lib/python3.9/site-packages/sklearn/model_selection/_validation.py:598: DataConversionWarning: A column-vector y was passed when a 1d array was expected. Please change the shape of y to (n_samples,), for example using ravel().\n",
      "  estimator.fit(X_train, y_train, **fit_params)\n",
      "/Users/satyasriallaka/.local/lib/python3.9/site-packages/sklearn/model_selection/_search.py:880: DataConversionWarning: A column-vector y was passed when a 1d array was expected. Please change the shape of y to (n_samples,), for example using ravel().\n",
      "  self.best_estimator_.fit(X, y, **fit_params)\n"
     ]
    },
    {
     "data": {
      "text/plain": [
       "RandomizedSearchCV(cv=5, estimator=RandomForestRegressor(), n_jobs=-1,\n",
       "                   param_distributions={'bootstrap': [True, False],\n",
       "                                        'max_depth': [3, 13, 24, 35, 45, 56, 67,\n",
       "                                                      77, 88, 99, 110],\n",
       "                                        'max_features': ['auto', 'sqrt'],\n",
       "                                        'min_samples_leaf': [1, 2, 4],\n",
       "                                        'min_samples_split': [2, 5, 10],\n",
       "                                        'n_estimators': [50, 211, 372, 533, 694,\n",
       "                                                         855, 1016, 1177, 1338,\n",
       "                                                         1500]},\n",
       "                   random_state=42, verbose=2)"
      ]
     },
     "execution_count": 87,
     "metadata": {},
     "output_type": "execute_result"
    },
    {
     "name": "stdout",
     "output_type": "stream",
     "text": [
      "[CV] END bootstrap=False, max_depth=67, max_features=sqrt, min_samples_leaf=1, min_samples_split=10, n_estimators=694; total time=   1.6s\n",
      "[CV] END bootstrap=True, max_depth=45, max_features=sqrt, min_samples_leaf=2, min_samples_split=10, n_estimators=50; total time=   0.1s\n",
      "[CV] END bootstrap=True, max_depth=45, max_features=sqrt, min_samples_leaf=2, min_samples_split=10, n_estimators=50; total time=   0.1s\n",
      "[CV] END bootstrap=True, max_depth=77, max_features=auto, min_samples_leaf=2, min_samples_split=2, n_estimators=694; total time=   3.9s\n",
      "[CV] END bootstrap=True, max_depth=77, max_features=auto, min_samples_leaf=2, min_samples_split=2, n_estimators=694; total time=   3.9s\n",
      "[CV] END bootstrap=False, max_depth=99, max_features=sqrt, min_samples_leaf=4, min_samples_split=10, n_estimators=372; total time=   0.8s\n",
      "[CV] END bootstrap=False, max_depth=67, max_features=auto, min_samples_leaf=2, min_samples_split=2, n_estimators=372; total time=   3.1s\n",
      "[CV] END bootstrap=True, max_depth=99, max_features=auto, min_samples_leaf=1, min_samples_split=5, n_estimators=1338; total time=   7.9s\n",
      "[CV] END bootstrap=False, max_depth=67, max_features=sqrt, min_samples_leaf=1, min_samples_split=10, n_estimators=694; total time=   1.6s\n",
      "[CV] END bootstrap=False, max_depth=88, max_features=auto, min_samples_leaf=4, min_samples_split=10, n_estimators=1177; total time=   7.9s\n",
      "[CV] END bootstrap=False, max_depth=99, max_features=sqrt, min_samples_leaf=4, min_samples_split=10, n_estimators=372; total time=   0.9s\n",
      "[CV] END bootstrap=False, max_depth=99, max_features=sqrt, min_samples_leaf=4, min_samples_split=10, n_estimators=372; total time=   0.8s\n",
      "[CV] END bootstrap=False, max_depth=67, max_features=auto, min_samples_leaf=2, min_samples_split=2, n_estimators=372; total time=   3.0s\n",
      "[CV] END bootstrap=True, max_depth=99, max_features=auto, min_samples_leaf=1, min_samples_split=5, n_estimators=1338; total time=   8.0s\n",
      "[CV] END bootstrap=False, max_depth=67, max_features=sqrt, min_samples_leaf=1, min_samples_split=10, n_estimators=694; total time=   1.9s\n",
      "[CV] END bootstrap=True, max_depth=45, max_features=sqrt, min_samples_leaf=2, min_samples_split=10, n_estimators=50; total time=   0.1s\n",
      "[CV] END bootstrap=True, max_depth=77, max_features=auto, min_samples_leaf=2, min_samples_split=2, n_estimators=694; total time=   3.9s\n",
      "[CV] END bootstrap=True, max_depth=77, max_features=auto, min_samples_leaf=2, min_samples_split=2, n_estimators=694; total time=   3.9s\n",
      "[CV] END bootstrap=False, max_depth=99, max_features=sqrt, min_samples_leaf=4, min_samples_split=10, n_estimators=372; total time=   0.8s\n",
      "[CV] END bootstrap=False, max_depth=99, max_features=sqrt, min_samples_leaf=4, min_samples_split=10, n_estimators=372; total time=   0.8s\n",
      "[CV] END bootstrap=False, max_depth=67, max_features=auto, min_samples_leaf=2, min_samples_split=2, n_estimators=372; total time=   2.9s\n",
      "[CV] END bootstrap=True, max_depth=99, max_features=auto, min_samples_leaf=1, min_samples_split=5, n_estimators=1338; total time=   7.9s\n",
      "[CV] END bootstrap=False, max_depth=67, max_features=sqrt, min_samples_leaf=1, min_samples_split=10, n_estimators=694; total time=   1.6s\n",
      "[CV] END bootstrap=False, max_depth=88, max_features=auto, min_samples_leaf=4, min_samples_split=10, n_estimators=1177; total time=   7.8s\n",
      "[CV] END bootstrap=True, max_depth=67, max_features=auto, min_samples_leaf=1, min_samples_split=5, n_estimators=855; total time=   5.2s\n",
      "[CV] END bootstrap=False, max_depth=13, max_features=auto, min_samples_leaf=1, min_samples_split=2, n_estimators=1500; total time=  11.1s\n",
      "[CV] END bootstrap=False, max_depth=67, max_features=sqrt, min_samples_leaf=1, min_samples_split=10, n_estimators=694; total time=   1.7s\n",
      "[CV] END bootstrap=True, max_depth=45, max_features=sqrt, min_samples_leaf=2, min_samples_split=10, n_estimators=50; total time=   0.1s\n",
      "[CV] END bootstrap=True, max_depth=45, max_features=sqrt, min_samples_leaf=2, min_samples_split=10, n_estimators=50; total time=   0.1s\n",
      "[CV] END bootstrap=True, max_depth=77, max_features=auto, min_samples_leaf=2, min_samples_split=2, n_estimators=694; total time=   3.9s\n",
      "[CV] END bootstrap=True, max_depth=67, max_features=auto, min_samples_leaf=2, min_samples_split=10, n_estimators=50; total time=   0.3s\n",
      "[CV] END bootstrap=True, max_depth=67, max_features=auto, min_samples_leaf=2, min_samples_split=10, n_estimators=50; total time=   0.3s\n",
      "[CV] END bootstrap=True, max_depth=67, max_features=auto, min_samples_leaf=2, min_samples_split=10, n_estimators=50; total time=   0.3s\n",
      "[CV] END bootstrap=True, max_depth=67, max_features=auto, min_samples_leaf=2, min_samples_split=10, n_estimators=50; total time=   0.3s\n",
      "[CV] END bootstrap=True, max_depth=67, max_features=auto, min_samples_leaf=2, min_samples_split=10, n_estimators=50; total time=   0.3s\n",
      "[CV] END bootstrap=True, max_depth=67, max_features=auto, min_samples_leaf=1, min_samples_split=5, n_estimators=855; total time=   5.2s\n",
      "[CV] END bootstrap=False, max_depth=67, max_features=auto, min_samples_leaf=2, min_samples_split=2, n_estimators=372; total time=   3.2s\n",
      "[CV] END bootstrap=False, max_depth=13, max_features=auto, min_samples_leaf=1, min_samples_split=2, n_estimators=1500; total time=  11.0s\n",
      "[CV] END bootstrap=False, max_depth=88, max_features=auto, min_samples_leaf=4, min_samples_split=10, n_estimators=1177; total time=   7.9s\n",
      "[CV] END bootstrap=True, max_depth=67, max_features=auto, min_samples_leaf=1, min_samples_split=5, n_estimators=855; total time=   5.2s\n",
      "[CV] END bootstrap=False, max_depth=67, max_features=auto, min_samples_leaf=2, min_samples_split=2, n_estimators=372; total time=   3.1s\n",
      "[CV] END bootstrap=False, max_depth=13, max_features=auto, min_samples_leaf=1, min_samples_split=2, n_estimators=1500; total time=  10.6s\n",
      "[CV] END bootstrap=False, max_depth=88, max_features=auto, min_samples_leaf=4, min_samples_split=10, n_estimators=1177; total time=   7.8s\n",
      "[CV] END bootstrap=True, max_depth=67, max_features=auto, min_samples_leaf=1, min_samples_split=5, n_estimators=855; total time=   5.3s\n",
      "[CV] END bootstrap=True, max_depth=99, max_features=auto, min_samples_leaf=1, min_samples_split=5, n_estimators=1338; total time=   7.9s\n",
      "[CV] END bootstrap=False, max_depth=13, max_features=auto, min_samples_leaf=1, min_samples_split=2, n_estimators=1500; total time=   8.9s\n",
      "[CV] END bootstrap=False, max_depth=88, max_features=auto, min_samples_leaf=4, min_samples_split=10, n_estimators=1177; total time=   8.0s\n",
      "[CV] END bootstrap=True, max_depth=67, max_features=auto, min_samples_leaf=1, min_samples_split=5, n_estimators=855; total time=   5.3s\n",
      "[CV] END bootstrap=True, max_depth=99, max_features=auto, min_samples_leaf=1, min_samples_split=5, n_estimators=1338; total time=   8.0s\n",
      "[CV] END bootstrap=False, max_depth=13, max_features=auto, min_samples_leaf=1, min_samples_split=2, n_estimators=1500; total time=   9.1s\n"
     ]
    }
   ],
   "source": [
    "rf = RandomForestRegressor()\n",
    "rf_random = RandomizedSearchCV(estimator = rf, param_distributions = random_grid,\n",
    "                               n_iter = 10, cv = 5, verbose=2, random_state=42, n_jobs = -1)\n",
    "# Fit the random search model\n",
    "rf_random.fit(X_train, y_train)"
   ]
  },
  {
   "cell_type": "code",
   "execution_count": 88,
   "id": "2862af3d",
   "metadata": {},
   "outputs": [
    {
     "name": "stdout",
     "output_type": "stream",
     "text": [
      "0.5049981936620945\n",
      "0.8529967448060541\n"
     ]
    }
   ],
   "source": [
    "y_pred = rf_random.predict(X_test)\n",
    "#y_pred = y_pred**2\n",
    "print(r2_score(y_test,y_pred))\n",
    "y_pred_train = rf_random.predict(X_train)\n",
    "#y_pred_train = y_pred_train **2\n",
    "print(r2_score(y_train,y_pred_train))"
   ]
  },
  {
   "cell_type": "code",
   "execution_count": null,
   "id": "bb439ebf",
   "metadata": {},
   "outputs": [],
   "source": [
    "# rf = RandomForestRegressor()\n",
    "# rf_random = RandomizedSearchCV(estimator = rf, param_distributions = random_grid,\n",
    "#                                n_iter = 100, cv = 3, verbose=2, random_state=42, n_jobs = -1)\n",
    "# # Fit the random search model\n",
    "# rf_random.fit(X, y)"
   ]
  },
  {
   "cell_type": "code",
   "execution_count": null,
   "id": "019f0887",
   "metadata": {},
   "outputs": [],
   "source": [
    "y_transformed = np.sqrt(y)\n",
    "rf = RandomForestRegressor(random_state=42)\n",
    "rf.fit(X,y_transformed)"
   ]
  },
  {
   "cell_type": "code",
   "execution_count": null,
   "id": "07f0a8dc",
   "metadata": {},
   "outputs": [],
   "source": [
    "xgb = XGBRegressor(random_state=42)\n",
    "xgb.fit(X_train,y_train)\n",
    "y_pred = xgb.predict(X_test)\n",
    "r2_score(y_test,y_pred)"
   ]
  },
  {
   "cell_type": "code",
   "execution_count": null,
   "id": "57810120",
   "metadata": {},
   "outputs": [],
   "source": [
    "param_tuning = {\n",
    "        'learning_rate': [0.01, 0.1],\n",
    "        'max_depth': [3, 5, 7, 10],\n",
    "        'min_child_weight': [1, 3, 5],\n",
    "        'subsample': [0.5, 0.7],\n",
    "        'colsample_bytree': [0.5, 0.7],\n",
    "        'n_estimators' : [50, 200, 500],\n",
    "        'objective': ['reg:squarederror']\n",
    "    }\n",
    "\n",
    "xgb_model = XGBRegressor()\n",
    "\n",
    "gsearch = GridSearchCV(estimator = xgb_model,\n",
    "                       param_grid = param_tuning,                        \n",
    "                       #scoring = 'neg_mean_absolute_error', #MAE\n",
    "                       #scoring = 'neg_mean_squared_error',  #MSE\n",
    "                       cv = 5,\n",
    "                       n_jobs = -1,\n",
    "                       verbose = 1)\n",
    "gsearch.fit(X_train,y_train)\n",
    "gsearch.best_params_"
   ]
  },
  {
   "cell_type": "markdown",
   "id": "33f6e200",
   "metadata": {},
   "source": [
    "# Submission"
   ]
  },
  {
   "cell_type": "code",
   "execution_count": null,
   "id": "9cc04a91",
   "metadata": {},
   "outputs": [],
   "source": [
    "submission = pd.read_csv(r'sample_submission_LJ2N3ZQ.csv')\n",
    "test.head()"
   ]
  },
  {
   "cell_type": "code",
   "execution_count": null,
   "id": "47f92ff3",
   "metadata": {},
   "outputs": [],
   "source": [
    "test2 = test[['campaign_id']]\n",
    "test1 = test.drop('campaign_id',axis=1)\n",
    "y_pred_test = rf.predict(test1)\n",
    "y_pred_test = y_pred_test**2\n",
    "test2['click_rate'] = y_pred_test"
   ]
  },
  {
   "cell_type": "code",
   "execution_count": null,
   "id": "66019583",
   "metadata": {},
   "outputs": [],
   "source": [
    "test2.to_csv(r\"rf_no_tune_sqrt_sunday.csv\",index=False)"
   ]
  },
  {
   "cell_type": "code",
   "execution_count": null,
   "id": "3e87b9f3",
   "metadata": {},
   "outputs": [],
   "source": []
  }
 ],
 "metadata": {
  "kernelspec": {
   "display_name": "Python 3 (ipykernel)",
   "language": "python",
   "name": "python3"
  },
  "language_info": {
   "codemirror_mode": {
    "name": "ipython",
    "version": 3
   },
   "file_extension": ".py",
   "mimetype": "text/x-python",
   "name": "python",
   "nbconvert_exporter": "python",
   "pygments_lexer": "ipython3",
   "version": "3.9.7"
  }
 },
 "nbformat": 4,
 "nbformat_minor": 5
}
